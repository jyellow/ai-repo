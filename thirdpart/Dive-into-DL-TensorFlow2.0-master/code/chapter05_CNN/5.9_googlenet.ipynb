{
 "cells": [
  {
   "cell_type": "markdown",
   "id": "018fe421",
   "metadata": {
    "papermill": {
     "duration": 0.00549,
     "end_time": "2024-10-22T07:36:43.290538",
     "exception": false,
     "start_time": "2024-10-22T07:36:43.285048",
     "status": "completed"
    },
    "tags": []
   },
   "source": [
    "# 含并行连结的网络（GoogLeNet）\n",
    "\n",
    "在2014年的ImageNet图像识别挑战赛中，一个名叫GoogLeNet的网络结构大放异彩 [1]。它虽然在名字上向LeNet致敬，但在网络结构上已经很难看到LeNet的影子。GoogLeNet吸收了NiN中网络串联网络的思想，并在此基础上做了很大改进。在随后的几年里，研究人员对GoogLeNet进行了数次改进，本节将介绍这个模型系列的第一个版本。\n",
    "\n",
    "\n",
    "## Inception 块\n",
    "\n",
    "GoogLeNet中的基础卷积块叫作Inception块，得名于同名电影《盗梦空间》（Inception）。与上一节介绍的NiN块相比，这个基础块在结构上更加复杂，如图5.8所示。\n",
    "\n",
    "![Inception块的结构](../img/inception.svg)\n",
    "\n",
    "由图5.8可以看出，Inception块里有4条并行的线路。前3条线路使用窗口大小分别是$1\\times 1$、$3\\times 3$和$5\\times 5$的卷积层来抽取不同空间尺寸下的信息，其中中间2个线路会对输入先做$1\\times 1$卷积来减少输入通道数，以降低模型复杂度。第四条线路则使用$3\\times 3$最大池化层，后接$1\\times 1$卷积层来改变通道数。4条线路都使用了合适的填充来使输入与输出的高和宽一致。最后我们将每条线路的输出在通道维上连结，并输入接下来的层中去。\n",
    "\n",
    "Inception块中可以自定义的超参数是每个层的输出通道数，我们以此来控制模型复杂度。"
   ]
  },
  {
   "cell_type": "code",
   "execution_count": 12,
   "id": "be1fdda6",
   "metadata": {
    "execution": {
     "iopub.execute_input": "2024-10-22T07:36:43.301468Z",
     "iopub.status.busy": "2024-10-22T07:36:43.301108Z",
     "iopub.status.idle": "2024-10-22T07:36:56.649129Z",
     "shell.execute_reply": "2024-10-22T07:36:56.647850Z"
    },
    "papermill": {
     "duration": 13.355868,
     "end_time": "2024-10-22T07:36:56.651218",
     "exception": false,
     "start_time": "2024-10-22T07:36:43.295350",
     "status": "completed"
    },
    "tags": []
   },
   "outputs": [
    {
     "name": "stdout",
     "output_type": "stream",
     "text": [
      "2.17.0\n"
     ]
    }
   ],
   "source": [
    "import tensorflow as tf\n",
    "print(tf.__version__)\n",
    "\n",
    "for gpu in tf.config.experimental.list_physical_devices('GPU'):\n",
    "    tf.config.experimental.set_memory_growth(gpu, True)"
   ]
  },
  {
   "cell_type": "code",
   "execution_count": 13,
   "id": "f5415884",
   "metadata": {
    "execution": {
     "iopub.execute_input": "2024-10-22T07:36:56.663228Z",
     "iopub.status.busy": "2024-10-22T07:36:56.662659Z",
     "iopub.status.idle": "2024-10-22T07:36:56.732047Z",
     "shell.execute_reply": "2024-10-22T07:36:56.731052Z"
    },
    "papermill": {
     "duration": 0.077964,
     "end_time": "2024-10-22T07:36:56.734436",
     "exception": false,
     "start_time": "2024-10-22T07:36:56.656472",
     "status": "completed"
    },
    "tags": []
   },
   "outputs": [],
   "source": [
    "class Inception(tf.keras.layers.Layer):\n",
    "    def __init__(self,c1, c2, c3, c4):\n",
    "        super().__init__()\n",
    "        # 线路1，单1 x 1卷积层\n",
    "        self.p1_1 = tf.keras.layers.Conv2D(c1, kernel_size=1, activation='relu', padding='same')\n",
    "        # 线路2，1 x 1卷积层后接3 x 3卷积层\n",
    "        self.p2_1 = tf.keras.layers.Conv2D(c2[0], kernel_size=1, padding='same', activation='relu')\n",
    "        self.p2_2 = tf.keras.layers.Conv2D(c2[1], kernel_size=3, padding='same',\n",
    "                              activation='relu')\n",
    "        # 线路3，1 x 1卷积层后接5 x 5卷积层\n",
    "        self.p3_1 = tf.keras.layers.Conv2D(c3[0], kernel_size=1, padding='same', activation='relu')\n",
    "        self.p3_2 = tf.keras.layers.Conv2D(c3[1], kernel_size=5, padding='same',\n",
    "                              activation='relu')\n",
    "        # 线路4，3 x 3最大池化层后接1 x 1卷积层\n",
    "        self.p4_1 = tf.keras.layers.MaxPool2D(pool_size=3, padding='same', strides=1)\n",
    "        self.p4_2 = tf.keras.layers.Conv2D(c4, kernel_size=1, padding='same', activation='relu')\n",
    "\n",
    "    def call(self, x):\n",
    "        p1 = self.p1_1(x)\n",
    "        p2 = self.p2_2(self.p2_1(x))\n",
    "        p3 = self.p3_2(self.p3_1(x))\n",
    "        p4 = self.p4_2(self.p4_1(x))\n",
    "        return tf.concat([p1, p2, p3, p4], axis=-1)  # 在通道维上连结输出"
   ]
  },
  {
   "cell_type": "code",
   "execution_count": 14,
   "id": "47347ecf",
   "metadata": {
    "execution": {
     "iopub.execute_input": "2024-10-22T07:36:56.746229Z",
     "iopub.status.busy": "2024-10-22T07:36:56.745865Z",
     "iopub.status.idle": "2024-10-22T07:36:56.765027Z",
     "shell.execute_reply": "2024-10-22T07:36:56.764069Z"
    },
    "papermill": {
     "duration": 0.0272,
     "end_time": "2024-10-22T07:36:56.766984",
     "exception": false,
     "start_time": "2024-10-22T07:36:56.739784",
     "status": "completed"
    },
    "tags": []
   },
   "outputs": [
    {
     "data": {
      "text/plain": [
       "<Inception name=inception_10, built=False>"
      ]
     },
     "execution_count": 14,
     "metadata": {},
     "output_type": "execute_result"
    }
   ],
   "source": [
    "Inception(64, (96, 128), (16, 32), 32)"
   ]
  },
  {
   "cell_type": "markdown",
   "id": "5829e7bb",
   "metadata": {
    "papermill": {
     "duration": 0.005084,
     "end_time": "2024-10-22T07:36:56.778739",
     "exception": false,
     "start_time": "2024-10-22T07:36:56.773655",
     "status": "completed"
    },
    "tags": []
   },
   "source": [
    "## GoogLeNet模型\n",
    "\n",
    "GoogLeNet跟VGG一样，在主体卷积部分中使用5个模块（block），每个模块之间使用步幅为2的$3\\times 3$最大池化层来减小输出高宽。第一模块使用一个64通道的$7\\times 7$卷积层。"
   ]
  },
  {
   "cell_type": "code",
   "execution_count": 15,
   "id": "18a9ea09",
   "metadata": {
    "execution": {
     "iopub.execute_input": "2024-10-22T07:36:56.791120Z",
     "iopub.status.busy": "2024-10-22T07:36:56.790740Z",
     "iopub.status.idle": "2024-10-22T07:36:56.800342Z",
     "shell.execute_reply": "2024-10-22T07:36:56.799376Z"
    },
    "papermill": {
     "duration": 0.01858,
     "end_time": "2024-10-22T07:36:56.802616",
     "exception": false,
     "start_time": "2024-10-22T07:36:56.784036",
     "status": "completed"
    },
    "tags": []
   },
   "outputs": [],
   "source": [
    "b1 = tf.keras.models.Sequential()\n",
    "b1.add(tf.keras.layers.Conv2D(64, kernel_size=7, strides=2, padding='same', activation='relu'))\n",
    "b1.add(tf.keras.layers.MaxPool2D(pool_size=3, strides=2, padding='same'))"
   ]
  },
  {
   "cell_type": "markdown",
   "id": "f96fb7d0",
   "metadata": {
    "papermill": {
     "duration": 0.005342,
     "end_time": "2024-10-22T07:36:56.816649",
     "exception": false,
     "start_time": "2024-10-22T07:36:56.811307",
     "status": "completed"
    },
    "tags": []
   },
   "source": [
    "第二模块使用2个卷积层：首先是64通道的$1\\times 1$卷积层，然后是将通道增大3倍的$3\\times 3$卷积层。它对应Inception块中的第二条线路。"
   ]
  },
  {
   "cell_type": "code",
   "execution_count": 16,
   "id": "5a61bc15",
   "metadata": {
    "execution": {
     "iopub.execute_input": "2024-10-22T07:36:56.829011Z",
     "iopub.status.busy": "2024-10-22T07:36:56.828648Z",
     "iopub.status.idle": "2024-10-22T07:36:56.838791Z",
     "shell.execute_reply": "2024-10-22T07:36:56.837841Z"
    },
    "papermill": {
     "duration": 0.018581,
     "end_time": "2024-10-22T07:36:56.840782",
     "exception": false,
     "start_time": "2024-10-22T07:36:56.822201",
     "status": "completed"
    },
    "tags": []
   },
   "outputs": [],
   "source": [
    "b2 = tf.keras.models.Sequential()\n",
    "b2.add(tf.keras.layers.Conv2D(64, kernel_size=1, padding='same', activation='relu'))\n",
    "b2.add(tf.keras.layers.Conv2D(192, kernel_size=3, padding='same', activation='relu'))\n",
    "b2.add(tf.keras.layers.MaxPool2D(pool_size=3, strides=2, padding='same'))"
   ]
  },
  {
   "cell_type": "markdown",
   "id": "417f9d31",
   "metadata": {
    "papermill": {
     "duration": 0.005223,
     "end_time": "2024-10-22T07:36:56.851282",
     "exception": false,
     "start_time": "2024-10-22T07:36:56.846059",
     "status": "completed"
    },
    "tags": []
   },
   "source": [
    "第三模块串联2个完整的Inception块。第一个Inception块的输出通道数为$64+128+32+32=256$，其中4条线路的输出通道数比例为$64:128:32:32=2:4:1:1$。其中第二、第三条线路先分别将输入通道数减小至$96/192=1/2$和$16/192=1/12$后，再接上第二层卷积层。第二个Inception块输出通道数增至$128+192+96+64=480$，每条线路的输出通道数之比为$128:192:96:64 = 4:6:3:2$。其中第二、第三条线路先分别将输入通道数减小至$128/256=1/2$和$32/256=1/8$。"
   ]
  },
  {
   "cell_type": "code",
   "execution_count": 17,
   "id": "dd30f4d6",
   "metadata": {
    "execution": {
     "iopub.execute_input": "2024-10-22T07:36:56.864558Z",
     "iopub.status.busy": "2024-10-22T07:36:56.863654Z",
     "iopub.status.idle": "2024-10-22T07:36:56.890719Z",
     "shell.execute_reply": "2024-10-22T07:36:56.889862Z"
    },
    "papermill": {
     "duration": 0.036014,
     "end_time": "2024-10-22T07:36:56.892719",
     "exception": false,
     "start_time": "2024-10-22T07:36:56.856705",
     "status": "completed"
    },
    "tags": []
   },
   "outputs": [],
   "source": [
    "b3 = tf.keras.models.Sequential()\n",
    "b3.add(Inception(64, (96, 128), (16, 32), 32))\n",
    "b3.add(Inception(128, (128, 192), (32, 96), 64))\n",
    "b3.add(tf.keras.layers.MaxPool2D(pool_size=3, strides=2, padding='same'))"
   ]
  },
  {
   "cell_type": "markdown",
   "id": "7014a7b1",
   "metadata": {
    "papermill": {
     "duration": 0.005264,
     "end_time": "2024-10-22T07:36:56.903877",
     "exception": false,
     "start_time": "2024-10-22T07:36:56.898613",
     "status": "completed"
    },
    "tags": []
   },
   "source": [
    "第四模块更加复杂。它串联了5个Inception块，其输出通道数分别是$192+208+48+64=512$、$160+224+64+64=512$、$128+256+64+64=512$、$112+288+64+64=528$和$256+320+128+128=832$。这些线路的通道数分配和第三模块中的类似，首先含$3\\times 3$卷积层的第二条线路输出最多通道，其次是仅含$1\\times 1$卷积层的第一条线路，之后是含$5\\times 5$卷积层的第三条线路和含$3\\times 3$最大池化层的第四条线路。其中第二、第三条线路都会先按比例减小通道数。这些比例在各个Inception块中都略有不同。"
   ]
  },
  {
   "cell_type": "code",
   "execution_count": 18,
   "id": "a98fa370",
   "metadata": {
    "execution": {
     "iopub.execute_input": "2024-10-22T07:36:56.917109Z",
     "iopub.status.busy": "2024-10-22T07:36:56.916736Z",
     "iopub.status.idle": "2024-10-22T07:36:56.974963Z",
     "shell.execute_reply": "2024-10-22T07:36:56.974101Z"
    },
    "papermill": {
     "duration": 0.067584,
     "end_time": "2024-10-22T07:36:56.977236",
     "exception": false,
     "start_time": "2024-10-22T07:36:56.909652",
     "status": "completed"
    },
    "tags": []
   },
   "outputs": [],
   "source": [
    "b4 = tf.keras.models.Sequential()\n",
    "b4.add(Inception(192, (96, 208), (16, 48), 64))\n",
    "b4.add(Inception(160, (112, 224), (24, 64), 64))\n",
    "b4.add(Inception(128, (128, 256), (24, 64), 64))\n",
    "b4.add(Inception(112, (144, 288), (32, 64), 64))\n",
    "b4.add(Inception(256, (160, 320), (32, 128), 128))\n",
    "b4.add(tf.keras.layers.MaxPool2D(pool_size=3, strides=2, padding='same'))"
   ]
  },
  {
   "cell_type": "markdown",
   "id": "5f2cd7cf",
   "metadata": {
    "papermill": {
     "duration": 0.005915,
     "end_time": "2024-10-22T07:36:56.989549",
     "exception": false,
     "start_time": "2024-10-22T07:36:56.983634",
     "status": "completed"
    },
    "tags": []
   },
   "source": [
    "第五模块有输出通道数为$256+320+128+128=832$和$384+384+128+128=1024$的两个Inception块。其中每条线路的通道数的分配思路和第三、第四模块中的一致，只是在具体数值上有所不同。需要注意的是，第五模块的后面紧跟输出层，该模块同NiN一样使用全局平均池化层来将每个通道的高和宽变成1。最后我们将输出变成二维数组后接上一个输出个数为标签类别数的全连接层。"
   ]
  },
  {
   "cell_type": "code",
   "execution_count": 19,
   "id": "0b729a57",
   "metadata": {
    "execution": {
     "iopub.execute_input": "2024-10-22T07:36:57.003056Z",
     "iopub.status.busy": "2024-10-22T07:36:57.002709Z",
     "iopub.status.idle": "2024-10-22T07:36:57.035270Z",
     "shell.execute_reply": "2024-10-22T07:36:57.034452Z"
    },
    "papermill": {
     "duration": 0.041878,
     "end_time": "2024-10-22T07:36:57.037503",
     "exception": false,
     "start_time": "2024-10-22T07:36:56.995625",
     "status": "completed"
    },
    "tags": []
   },
   "outputs": [],
   "source": [
    "b5 = tf.keras.models.Sequential()\n",
    "b5.add(Inception(256, (160, 320), (32, 128), 128))\n",
    "b5.add(Inception(384, (192, 384), (48, 128), 128))\n",
    "b5.add(tf.keras.layers.GlobalAvgPool2D())\n",
    "\n",
    "net = tf.keras.models.Sequential([b1, b2, b3, b4, b5, tf.keras.layers.Dense(10)])"
   ]
  },
  {
   "cell_type": "markdown",
   "id": "2a7cca92",
   "metadata": {
    "papermill": {
     "duration": 0.005924,
     "end_time": "2024-10-22T07:36:57.049672",
     "exception": false,
     "start_time": "2024-10-22T07:36:57.043748",
     "status": "completed"
    },
    "tags": []
   },
   "source": [
    "GoogLeNet模型的计算复杂，而且不如VGG那样便于修改通道数。本节里我们将输入的高和宽从224降到96来简化计算。下面演示各个模块之间的输出的形状变化。"
   ]
  },
  {
   "cell_type": "code",
   "execution_count": 20,
   "id": "7986d910",
   "metadata": {
    "execution": {
     "iopub.execute_input": "2024-10-22T07:36:57.063197Z",
     "iopub.status.busy": "2024-10-22T07:36:57.062869Z",
     "iopub.status.idle": "2024-10-22T07:37:00.532509Z",
     "shell.execute_reply": "2024-10-22T07:37:00.531396Z"
    },
    "papermill": {
     "duration": 3.479034,
     "end_time": "2024-10-22T07:37:00.534886",
     "exception": false,
     "start_time": "2024-10-22T07:36:57.055852",
     "status": "completed"
    },
    "tags": []
   },
   "outputs": [
    {
     "name": "stdout",
     "output_type": "stream",
     "text": [
      "sequential_6 output shape:\t (1, 24, 24, 64)\n",
      "sequential_7 output shape:\t (1, 12, 12, 192)\n",
      "sequential_8 output shape:\t (1, 6, 6, 480)\n",
      "sequential_9 output shape:\t (1, 3, 3, 832)\n",
      "sequential_10 output shape:\t (1, 1024)\n",
      "dense_1 output shape:\t (1, 10)\n"
     ]
    }
   ],
   "source": [
    "X = tf.random.uniform(shape=(1, 96, 96, 1))\n",
    "for layer in net.layers:\n",
    "    X = layer(X)\n",
    "    print(layer.name, 'output shape:\\t', X.shape)"
   ]
  },
  {
   "cell_type": "markdown",
   "id": "c6fc2720",
   "metadata": {
    "papermill": {
     "duration": 0.005921,
     "end_time": "2024-10-22T07:37:00.547198",
     "exception": false,
     "start_time": "2024-10-22T07:37:00.541277",
     "status": "completed"
    },
    "tags": []
   },
   "source": [
    "## 获取数据和训练模型\n",
    "\n",
    "我们使用高和宽均为96像素的图像来训练GoogLeNet模型。训练使用的图像依然来自Fashion-MNIST数据集。"
   ]
  },
  {
   "cell_type": "code",
   "execution_count": 21,
   "id": "e3281116",
   "metadata": {
    "execution": {
     "iopub.execute_input": "2024-10-22T07:37:00.560670Z",
     "iopub.status.busy": "2024-10-22T07:37:00.560290Z",
     "iopub.status.idle": "2024-10-22T07:37:02.077705Z",
     "shell.execute_reply": "2024-10-22T07:37:02.076624Z"
    },
    "papermill": {
     "duration": 1.526808,
     "end_time": "2024-10-22T07:37:02.080097",
     "exception": false,
     "start_time": "2024-10-22T07:37:00.553289",
     "status": "completed"
    },
    "tags": []
   },
   "outputs": [
    {
     "name": "stdout",
     "output_type": "stream",
     "text": [
      "x_batch shape: (128, 96, 96, 1) y_batch shape: (128,)\n"
     ]
    }
   ],
   "source": [
    "import numpy as np\n",
    "\n",
    "class DataLoader():\n",
    "    def __init__(self):\n",
    "        fashion_mnist = tf.keras.datasets.fashion_mnist\n",
    "        (self.train_images, self.train_labels), (self.test_images, self.test_labels) = fashion_mnist.load_data()\n",
    "        self.train_images = np.expand_dims(self.train_images.astype(np.float32)/255.0,axis=-1)\n",
    "        self.test_images = np.expand_dims(self.test_images.astype(np.float32)/255.0,axis=-1)\n",
    "        self.train_labels = self.train_labels.astype(np.int32)\n",
    "        self.test_labels = self.test_labels.astype(np.int32)\n",
    "        self.num_train, self.num_test = self.train_images.shape[0], self.test_images.shape[0]\n",
    "        \n",
    "    def get_batch_train(self, batch_size):\n",
    "        index = np.random.randint(0, np.shape(self.train_images)[0], batch_size)\n",
    "        #need to resize images to (224,224)\n",
    "        resized_images = tf.image.resize_with_pad(self.train_images[index],96,96,)\n",
    "        return resized_images.numpy(), self.train_labels[index]\n",
    "    \n",
    "    def get_batch_test(self, batch_size):\n",
    "        index = np.random.randint(0, np.shape(self.test_images)[0], batch_size)\n",
    "        #need to resize images to (224,224)\n",
    "        resized_images = tf.image.resize_with_pad(self.test_images[index],96,96,)\n",
    "        return resized_images.numpy(), self.test_labels[index]\n",
    "\n",
    "batch_size = 128\n",
    "dataLoader = DataLoader()\n",
    "x_batch, y_batch = dataLoader.get_batch_train(batch_size)\n",
    "print(\"x_batch shape:\",x_batch.shape,\"y_batch shape:\", y_batch.shape)"
   ]
  },
  {
   "cell_type": "code",
   "execution_count": 22,
   "id": "f23792a6",
   "metadata": {
    "execution": {
     "iopub.execute_input": "2024-10-22T07:37:02.096872Z",
     "iopub.status.busy": "2024-10-22T07:37:02.096309Z",
     "iopub.status.idle": "2024-10-22T07:45:26.420033Z",
     "shell.execute_reply": "2024-10-22T07:45:26.419060Z"
    },
    "papermill": {
     "duration": 504.334832,
     "end_time": "2024-10-22T07:45:26.422383",
     "exception": false,
     "start_time": "2024-10-22T07:37:02.087551",
     "status": "completed"
    },
    "tags": []
   },
   "outputs": [
    {
     "name": "stdout",
     "output_type": "stream",
     "text": [
      "\u001b[1m4/4\u001b[0m \u001b[32m━━━━━━━━━━━━━━━━━━━━\u001b[0m\u001b[37m\u001b[0m \u001b[1m8s\u001b[0m 326ms/step - accuracy: 0.0917 - loss: 7.2048\n"
     ]
    },
    {
     "data": {
      "text/plain": [
       "<keras.src.callbacks.history.History at 0x31ad0bac0>"
      ]
     },
     "execution_count": 22,
     "metadata": {},
     "output_type": "execute_result"
    }
   ],
   "source": [
    "import os\n",
    "def train_googlenet():\n",
    "    weights_file_path = \"5.9_googlenet.weights.h5\"\n",
    "    if os.path.exists(weights_file_path):\n",
    "        net.load_weights(weights_file_path)\n",
    "    else:\n",
    "        print(f\"权重文件 {weights_file_path} 未找到，跳过加载权重\")\n",
    "    epoch = 5\n",
    "    num_iter = dataLoader.num_train//batch_size\n",
    "    for e in range(epoch):\n",
    "        for n in range(num_iter):\n",
    "            x_batch, y_batch = dataLoader.get_batch_train(batch_size)\n",
    "            net.fit(x_batch, y_batch)\n",
    "            if n%20 == 0:\n",
    "                net.save_weights(\"5.9_googlenet.weights.h5\")\n",
    "                \n",
    "# optimizer = tf.keras.optimizers.SGD(learning_rate=0.05, momentum=0.0, nesterov=False)\n",
    "optimizer = tf.keras.optimizers.Adam(learning_rate=1e-7)\n",
    "\n",
    "net.compile(optimizer=optimizer,\n",
    "              loss='sparse_categorical_crossentropy',\n",
    "              metrics=['accuracy'])\n",
    "\n",
    "x_batch, y_batch = dataLoader.get_batch_train(batch_size)\n",
    "net.fit(x_batch, y_batch)\n",
    "train_googlenet()"
   ]
  },
  {
   "cell_type": "code",
   "execution_count": 25,
   "id": "d9b52a3f",
   "metadata": {
    "execution": {
     "iopub.execute_input": "2024-10-22T07:45:27.672000Z",
     "iopub.status.busy": "2024-10-22T07:45:27.671582Z",
     "iopub.status.idle": "2024-10-22T07:45:34.481535Z",
     "shell.execute_reply": "2024-10-22T07:45:34.480536Z"
    },
    "papermill": {
     "duration": 7.415821,
     "end_time": "2024-10-22T07:45:34.483620",
     "exception": false,
     "start_time": "2024-10-22T07:45:27.067799",
     "status": "completed"
    },
    "tags": []
   },
   "outputs": [
    {
     "name": "stdout",
     "output_type": "stream",
     "text": [
      "63/63 - 12s - 190ms/step - accuracy: 0.1650 - loss: 2.2578\n"
     ]
    },
    {
     "data": {
      "text/plain": [
       "[2.257793664932251, 0.16500000655651093]"
      ]
     },
     "execution_count": 25,
     "metadata": {},
     "output_type": "execute_result"
    }
   ],
   "source": [
    "# net.load_weights(\"5.9_googlenet.weights.h5\")\n",
    "\n",
    "x_test, y_test = dataLoader.get_batch_test(2000)\n",
    "net.evaluate(x_test, y_test, verbose=2)"
   ]
  },
  {
   "cell_type": "markdown",
   "id": "872d2414",
   "metadata": {
    "papermill": {
     "duration": 0.618603,
     "end_time": "2024-10-22T07:45:35.692424",
     "exception": false,
     "start_time": "2024-10-22T07:45:35.073821",
     "status": "completed"
    },
    "tags": []
   },
   "source": [
    "## 小结\n",
    "\n",
    "* Inception块相当于一个有4条线路的子网络。它通过不同窗口形状的卷积层和最大池化层来并行抽取信息，并使用$1\\times 1$卷积层减少通道数从而降低模型复杂度。\n",
    "* GoogLeNet将多个设计精细的Inception块和其他层串联起来。其中Inception块的通道数分配之比是在ImageNet数据集上通过大量的实验得来的。\n",
    "* GoogLeNet和它的后继者们一度是ImageNet上最高效的模型之一：在类似的测试精度下，它们的计算复杂度往往更低。"
   ]
  }
 ],
 "metadata": {
  "kaggle": {
   "accelerator": "nvidiaTeslaT4",
   "dataSources": [],
   "dockerImageVersionId": 30787,
   "isGpuEnabled": true,
   "isInternetEnabled": true,
   "language": "python",
   "sourceType": "notebook"
  },
  "kernelspec": {
   "display_name": "tf-env",
   "language": "python",
   "name": "python3"
  },
  "language_info": {
   "codemirror_mode": {
    "name": "ipython",
    "version": 3
   },
   "file_extension": ".py",
   "mimetype": "text/x-python",
   "name": "python",
   "nbconvert_exporter": "python",
   "pygments_lexer": "ipython3",
   "version": "3.10.14"
  },
  "papermill": {
   "default_parameters": {},
   "duration": 539.037753,
   "end_time": "2024-10-22T07:45:39.532194",
   "environment_variables": {},
   "exception": null,
   "input_path": "__notebook__.ipynb",
   "output_path": "__notebook__.ipynb",
   "parameters": {},
   "start_time": "2024-10-22T07:36:40.494441",
   "version": "2.6.0"
  }
 },
 "nbformat": 4,
 "nbformat_minor": 5
}
