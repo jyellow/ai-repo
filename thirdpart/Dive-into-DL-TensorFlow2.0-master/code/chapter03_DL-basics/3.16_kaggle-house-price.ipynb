{
 "cells": [
  {
   "cell_type": "markdown",
   "metadata": {},
   "source": [
    "### 3.16.2 获取和读取数据集\n",
    "比赛数据分为训练数据集和测试数据集。两个数据集都包括每栋房子的特征，如街道类型、建造年份、房顶类型、地下室状况等特征值。这些特征值有连续的数字、离散的标签甚至是缺失值“na”。只有训练数据集包括了每栋房子的价格，也就是标签。我们可以访问比赛网页，点击图3.8中的“Data”标签，并下载这些数据集。\n",
    "\n",
    "我们将通过pandas库读入并处理数据。在导入本节需要的包前请确保已安装pandas库，否则请参考下面的代码注释。"
   ]
  },
  {
   "cell_type": "code",
   "execution_count": 1,
   "metadata": {},
   "outputs": [
    {
     "name": "stdout",
     "output_type": "stream",
     "text": [
      "2.18.0\n"
     ]
    }
   ],
   "source": [
    "# 如果没有安装pandas，则反注释下面一行\n",
    "# !pip install pandas\n",
    "\n",
    "%matplotlib inline\n",
    "import tensorflow as tf\n",
    "from tensorflow import keras\n",
    "import numpy as np\n",
    "import pandas as pd\n",
    "import matplotlib.pyplot as plt\n",
    "from tensorflow import initializers as init\n",
    "print(tf.__version__)"
   ]
  },
  {
   "cell_type": "markdown",
   "metadata": {},
   "source": [
    "假设解压后的数据位于./data/kaggle_house/目录，它包括两个csv文件。下面使用pandas读取这两个文件"
   ]
  },
  {
   "cell_type": "code",
   "execution_count": 2,
   "metadata": {
    "collapsed": true
   },
   "outputs": [],
   "source": [
    "train_data = pd.read_csv('../../data/kaggle_house/train.csv')\n",
    "test_data = pd.read_csv('../../data/kaggle_house/test.csv')"
   ]
  },
  {
   "cell_type": "markdown",
   "metadata": {},
   "source": [
    "训练数据集包括1460个样本、80个特征和1个标签。"
   ]
  },
  {
   "cell_type": "code",
   "execution_count": 3,
   "metadata": {},
   "outputs": [
    {
     "data": {
      "text/plain": [
       "(1460, 81)"
      ]
     },
     "execution_count": 3,
     "metadata": {},
     "output_type": "execute_result"
    }
   ],
   "source": [
    "train_data.shape # 输出 (1460, 81)"
   ]
  },
  {
   "cell_type": "markdown",
   "metadata": {},
   "source": [
    "测试数据集包括1459个样本和80个特征。我们需要将测试数据集中每个样本的标签预测出来。"
   ]
  },
  {
   "cell_type": "code",
   "execution_count": 4,
   "metadata": {},
   "outputs": [
    {
     "data": {
      "text/plain": [
       "(1459, 80)"
      ]
     },
     "execution_count": 4,
     "metadata": {},
     "output_type": "execute_result"
    }
   ],
   "source": [
    "test_data.shape # 输出 (1459, 80)"
   ]
  },
  {
   "cell_type": "markdown",
   "metadata": {},
   "source": [
    "让我们来查看前4个样本的前4个特征、后2个特征和标签（SalePrice）："
   ]
  },
  {
   "cell_type": "code",
   "execution_count": 5,
   "metadata": {},
   "outputs": [
    {
     "data": {
      "text/html": [
       "<div>\n",
       "<style scoped>\n",
       "    .dataframe tbody tr th:only-of-type {\n",
       "        vertical-align: middle;\n",
       "    }\n",
       "\n",
       "    .dataframe tbody tr th {\n",
       "        vertical-align: top;\n",
       "    }\n",
       "\n",
       "    .dataframe thead th {\n",
       "        text-align: right;\n",
       "    }\n",
       "</style>\n",
       "<table border=\"1\" class=\"dataframe\">\n",
       "  <thead>\n",
       "    <tr style=\"text-align: right;\">\n",
       "      <th></th>\n",
       "      <th>Id</th>\n",
       "      <th>MSSubClass</th>\n",
       "      <th>MSZoning</th>\n",
       "      <th>LotFrontage</th>\n",
       "      <th>SaleType</th>\n",
       "      <th>SaleCondition</th>\n",
       "      <th>SalePrice</th>\n",
       "    </tr>\n",
       "  </thead>\n",
       "  <tbody>\n",
       "    <tr>\n",
       "      <th>0</th>\n",
       "      <td>1</td>\n",
       "      <td>60</td>\n",
       "      <td>RL</td>\n",
       "      <td>65.0</td>\n",
       "      <td>WD</td>\n",
       "      <td>Normal</td>\n",
       "      <td>208500</td>\n",
       "    </tr>\n",
       "    <tr>\n",
       "      <th>1</th>\n",
       "      <td>2</td>\n",
       "      <td>20</td>\n",
       "      <td>RL</td>\n",
       "      <td>80.0</td>\n",
       "      <td>WD</td>\n",
       "      <td>Normal</td>\n",
       "      <td>181500</td>\n",
       "    </tr>\n",
       "    <tr>\n",
       "      <th>2</th>\n",
       "      <td>3</td>\n",
       "      <td>60</td>\n",
       "      <td>RL</td>\n",
       "      <td>68.0</td>\n",
       "      <td>WD</td>\n",
       "      <td>Normal</td>\n",
       "      <td>223500</td>\n",
       "    </tr>\n",
       "    <tr>\n",
       "      <th>3</th>\n",
       "      <td>4</td>\n",
       "      <td>70</td>\n",
       "      <td>RL</td>\n",
       "      <td>60.0</td>\n",
       "      <td>WD</td>\n",
       "      <td>Abnorml</td>\n",
       "      <td>140000</td>\n",
       "    </tr>\n",
       "  </tbody>\n",
       "</table>\n",
       "</div>"
      ],
      "text/plain": [
       "   Id  MSSubClass MSZoning  LotFrontage SaleType SaleCondition  SalePrice\n",
       "0   1          60       RL         65.0       WD        Normal     208500\n",
       "1   2          20       RL         80.0       WD        Normal     181500\n",
       "2   3          60       RL         68.0       WD        Normal     223500\n",
       "3   4          70       RL         60.0       WD       Abnorml     140000"
      ]
     },
     "execution_count": 5,
     "metadata": {},
     "output_type": "execute_result"
    }
   ],
   "source": [
    "train_data.iloc[0:4, [0, 1, 2, 3, -3, -2, -1]]"
   ]
  },
  {
   "cell_type": "markdown",
   "metadata": {},
   "source": [
    "可以看到第一个特征是Id，它能帮助模型记住每个训练样本，但难以推广到测试样本，所以我们不使用它来训练。我们将所有的训练数据和测试数据的79个特征按样本连结。train_data.iloc[:, 1:-1]列出从第一列到最后一列所有的样本，concat将样本按列连接。"
   ]
  },
  {
   "cell_type": "code",
   "execution_count": 6,
   "metadata": {
    "collapsed": true
   },
   "outputs": [],
   "source": [
    "all_features = pd.concat((train_data.iloc[:, 1:-1], test_data.iloc[:, 1:]))"
   ]
  },
  {
   "cell_type": "markdown",
   "metadata": {},
   "source": [
    "### 3.16.3. 预处理数据\n",
    "我们对连续数值的特征做标准化（standardization）：设该特征在整个数据集上的均值为$μ$，标准差为$σ$。那么，我们可以将该特征的每个值先减去$μ$再除以$σ$得到标准化后的每个特征值。对于缺失的特征值，我们将其替换成该特征的均值。"
   ]
  },
  {
   "cell_type": "markdown",
   "metadata": {},
   "source": [
    "数据标准化和缺失值处理：\n",
    "\n",
    "1. **选择数值特征**：\n",
    "- 找出数据集中所有非对象类型（即数值类型）的列\n",
    "- `dtypes != 'object'` 排除了字符串等非数值类型的特征\n",
    "- `.index` 获取这些数值特征的名称列表\n",
    "\n",
    "2. **标准化处理**：\n",
    "- 对每个数值特征进行标准化处理\n",
    "- 使用 z-score 标准化方法：(x - 均值) / 标准差\n",
    "- 这样处理后，每个特征的均值为0，标准差为1\n",
    "- 这有助于让不同尺度的特征在模型训练中得到公平对待\n",
    "\n",
    "3. **处理缺失值**：\n",
    "- 将所有数值特征中的缺失值（NA）填充为0\n",
    "- 因为数据已经标准化，用0填充相当于用该特征的均值填充\n",
    "\n",
    "这种数据预处理的目的是：\n",
    "- 使不同量级的特征可以被公平比较\n",
    "- 帮助模型更好地学习和收敛\n",
    "- 处理数据中的缺失值，使数据集完整可用"
   ]
  },
  {
   "cell_type": "markdown",
   "metadata": {},
   "source": []
  },
  {
   "cell_type": "code",
   "execution_count": 7,
   "metadata": {
    "collapsed": true
   },
   "outputs": [],
   "source": [
    "numeric_features = all_features.dtypes[all_features.dtypes != 'object'].index\n",
    "all_features[numeric_features] = all_features[numeric_features].apply(\n",
    "    lambda x: (x - x.mean()) / (x.std()))\n",
    "\n",
    "all_features[numeric_features] = all_features[numeric_features].fillna(0)"
   ]
  },
  {
   "cell_type": "markdown",
   "metadata": {},
   "source": [
    "接下来将离散数值转成指示特征。举个例子，假设特征MSZoning里面有两个不同的离散值RL和RM，那么这一步转换将去掉MSZoning特征，并新加两个特征MSZoning_RL和MSZoning_RM，其值为0或1。如果一个样本原来在MSZoning里的值为RL，那么有MSZoning_RL=1且MSZoning_RM=0。"
   ]
  },
  {
   "cell_type": "markdown",
   "metadata": {},
   "source": [
    "使用pandas的`get_dummies`函数对数据集进行独热编码（One-Hot Encoding）处理。\n",
    "\n",
    "1. **功能说明**：\n",
    "   - 将分类特征（非数值特征）转换为数值形式\n",
    "   - 每个分类值都会变成一个新的二进制特征列\n",
    "   - `dummy_na=True` 表示将缺失值（NA）也作为一个独立的类别进行编码\n",
    "\n",
    "2. **举例说明**：\n",
    "   假设有一个\"颜色\"特征列：\n",
    "   ```\n",
    "   颜色: [红, 蓝, NA, 红]\n",
    "   ```\n",
    "   \n",
    "   转换后会变成：\n",
    "   ```\n",
    "   颜色_红: [1, 0, 0, 1]\n",
    "   颜色_蓝: [0, 1, 0, 0]\n",
    "   颜色_NA: [0, 0, 1, 0]\n",
    "   ```\n",
    "\n",
    "3. **处理目的**：\n",
    "   - 将分类数据转换为机器学习算法可以处理的数值形式\n",
    "   - 保留缺失值信息，而不是简单地删除或填充\n",
    "   - 避免引入分类变量之间的人为顺序关系\n",
    "\n",
    "这种处理方式的优点：\n",
    "- 许多特征（如房屋类型、街道类型等）是分类变量\n",
    "- 缺失值本身可能包含有用信息（比如某些特征不适用于特定房屋）\n",
    "- 独热编码可以让模型更好地理解分类特征的影响"
   ]
  },
  {
   "cell_type": "code",
   "execution_count": 8,
   "metadata": {
    "collapsed": true
   },
   "outputs": [],
   "source": [
    "all_features = pd.get_dummies(all_features, dummy_na=True)"
   ]
  },
  {
   "cell_type": "markdown",
   "metadata": {
    "collapsed": true
   },
   "source": [
    "可以看到这一步转换将特征数从79增加到了331。\n",
    "最后，通过values属性得到NumPy格式的数据，并转成NDArray方便后面的训练"
   ]
  },
  {
   "cell_type": "markdown",
   "metadata": {},
   "source": [
    "准备训练和测试数据，将数据转换为适合模型使用的格式。\n",
    "\n",
    "1. **获取训练集大小**：\n",
    "- 获取训练数据的样本数量\n",
    "- `shape[0]` 返回数据框的行数\n",
    "\n",
    "2. **准备训练特征**：\n",
    "- 从所有特征中取出前n_train行作为训练特征\n",
    "- 将数据转换为NumPy数组格式\n",
    "- 指定数据类型为float（浮点数）\n",
    "\n",
    "3. **准备测试特征**：\n",
    "- 从所有特征中取出剩余行作为测试特征\n",
    "- 同样转换为NumPy数组和浮点数类型\n",
    "\n",
    "4. **准备训练标签**：\n",
    "- 提取训练数据中的房价（SalePrice）作为标签\n",
    "- reshape(-1, 1)将标签转换为列向量\n",
    "- 同样转换为NumPy数组和浮点数类型\n",
    "\n",
    "\n",
    "这段代码的目的是：\n",
    "- 将数据从pandas格式转换为NumPy格式\n",
    "- 确保所有数据都是浮点数类型\n",
    "- 正确分离训练集和测试集\n",
    "- 准备好可以直接输入到机器学习模型的数据格式"
   ]
  },
  {
   "cell_type": "code",
   "execution_count": 9,
   "metadata": {},
   "outputs": [
    {
     "name": "stdout",
     "output_type": "stream",
     "text": [
      "(1460, 330)\n",
      "(1459, 330)\n"
     ]
    }
   ],
   "source": [
    "n_train = train_data.shape[0]\n",
    "train_features = np.array(all_features[:n_train].values,dtype=float)\n",
    "test_features = np.array(all_features[n_train:].values,dtype=float)\n",
    "train_labels = np.array(train_data.SalePrice.values.reshape(-1, 1),dtype=float)\n",
    "\n",
    "print(train_features.shape)\n",
    "print(test_features.shape)"
   ]
  },
  {
   "cell_type": "markdown",
   "metadata": {},
   "source": [
    "### 3.16.4. 训练模型\n",
    "我们使用一个基本的线性回归模型和平方损失函数来训练模型,因为tensorflow中的keras中有对数均方根误差，故我们直接就使用。"
   ]
  },
  {
   "cell_type": "code",
   "execution_count": 10,
   "metadata": {},
   "outputs": [],
   "source": [
    "# loss_f=keras.losses.mse\n",
    "def get_net():\n",
    "    net = keras.models.Sequential()\n",
    "    net.add(keras.layers.Dense(1))\n",
    "    return net"
   ]
  },
  {
   "cell_type": "markdown",
   "metadata": {},
   "source": [
    "对数均方根误差的实现如下，因为已经keras中已经集成了对数均方根误差，故直接调用"
   ]
  },
  {
   "cell_type": "code",
   "execution_count": 11,
   "metadata": {},
   "outputs": [],
   "source": [
    "log_rmse=keras.losses.MeanSquaredLogarithmicError"
   ]
  },
  {
   "cell_type": "markdown",
   "metadata": {},
   "source": [
    "### 3.16.5. K 折交叉验证\n",
    "\n",
    "我们在“模型选择、欠拟合和过拟合”一节中介绍了 K 折交叉验证。它将被用来选择模型设计并调节超参数。下面实现了一个函数，它返回第i折交叉验证时所需要的训练和验证数据。"
   ]
  },
  {
   "cell_type": "markdown",
   "metadata": {},
   "source": [
    "\n",
    "\n",
    "\n",
    "\n",
    "\n",
    "\n",
    "\n",
    "\n",
    "\n",
    "\n",
    "这段代码实现了K折交叉验证中的数据划分功能。让我详细解释这个函数：\n",
    "\n",
    "1. **函数参数说明**：\n",
    "```python\n",
    "def get_k_fold_data(k, i, X, y):\n",
    "```\n",
    "- k：总的折数（将数据分成多少份）\n",
    "- i：当前使用第几折作为验证集\n",
    "- X：特征数据\n",
    "- y：标签数据\n",
    "\n",
    "2. **基本验证和初始化**：\n",
    "```python\n",
    "assert k > 1\n",
    "fold_size = X.shape[0] // k\n",
    "X_train, y_train = None, None\n",
    "```\n",
    "- 确保k大于1（至少分成2折）\n",
    "- 计算每一折的大小（整除）\n",
    "- 初始化训练集变量\n",
    "\n",
    "3. **数据划分过程**：\n",
    "```python\n",
    "for j in range(k):\n",
    "    idx = slice(j * fold_size, (j + 1) * fold_size)\n",
    "    X_part, y_part = X[idx, :], y[idx]\n",
    "```\n",
    "- 遍历k次，每次处理一折数据\n",
    "- 使用切片获取当前折的数据\n",
    "\n",
    "4. **数据分配逻辑**：\n",
    "```python\n",
    "    if j == i:  # 当前折作为验证集\n",
    "        X_valid, y_valid = X_part, y_part\n",
    "    elif X_train is None:  # 第一份训练数据\n",
    "        X_train, y_train = X_part, y_part\n",
    "    else:  # 将后续的训练数据拼接起来\n",
    "        X_train = tf.concat([X_train, X_part], axis=0)\n",
    "        y_train = tf.concat([y_train, y_part], axis=0)\n",
    "```\n",
    "- 如果是第i折，作为验证集\n",
    "- 否则作为训练集的一部分\n",
    "- 使用concat连接多个训练数据片段\n",
    "\n",
    "这个函数的目的是：\n",
    "- 实现K折交叉验证的数据划分\n",
    "- 每次调用返回不同的训练集和验证集组合\n",
    "- 确保所有数据都能轮流作为验证集\n",
    "- 帮助评估模型的泛化性能\n",
    "\n",
    "使用场景示例：\n",
    "- 如果k=5，数据会被分成5份\n",
    "- 每次调用时指定不同的i（0到4）\n",
    "- 得到不同的训练集和验证集组合\n",
    "- 最终可以进行5次训练和验证"
   ]
  },
  {
   "cell_type": "code",
   "execution_count": 12,
   "metadata": {
    "collapsed": true
   },
   "outputs": [],
   "source": [
    "def get_k_fold_data(k, i, X, y):\n",
    "    \"\"\"\n",
    "    K折交叉验证数据集划分函数\n",
    "    参数:\n",
    "        k: 数据分成的折数\n",
    "        i: 当前使用第i折作为验证集\n",
    "        X: 特征数据\n",
    "        y: 标签数据\n",
    "    返回:\n",
    "        训练集特征，训练集标签，验证集特征，验证集标签\n",
    "    \"\"\"\n",
    "    # 确保k值大于1，否则无法进行交叉验证\n",
    "    assert k > 1\n",
    "    # 计算每一折的大小（样本数量）\n",
    "    fold_size = X.shape[0] // k\n",
    "    # 初始化训练集变量\n",
    "    X_train, y_train = None, None\n",
    "    \n",
    "    # 遍历所有折\n",
    "    for j in range(k):\n",
    "        # 计算当前折的数据范围\n",
    "        idx = slice(j * fold_size, (j + 1) * fold_size)\n",
    "        # 获取当前折的特征和标签\n",
    "        X_part, y_part = X[idx, :], y[idx]\n",
    "        \n",
    "        if j == i:  \n",
    "            # 如果是第i折，作为验证集\n",
    "            X_valid, y_valid = X_part, y_part\n",
    "        elif X_train is None:  \n",
    "            # 如果是第一折（且不是验证集），直接作为训练集\n",
    "            X_train, y_train = X_part, y_part\n",
    "        else:  \n",
    "            # 将当前折与已有的训练集连接\n",
    "            X_train = tf.concat([X_train, X_part], axis=0)\n",
    "            y_train = tf.concat([y_train, y_part], axis=0)\n",
    "    \n",
    "    return X_train, y_train, X_valid, y_valid"
   ]
  },
  {
   "cell_type": "markdown",
   "metadata": {},
   "source": [
    "在 K 折交叉验证中我们训练 K 次并返回训练和验证的平均误差。"
   ]
  },
  {
   "cell_type": "markdown",
   "metadata": {},
   "source": [
    "K折交叉验证训练过程：\n",
    "\n",
    "1. **函数定义**：\n",
    "```python\n",
    "def k_fold(k, X_train, y_train, num_epochs, learning_rate, weight_decay, batch_size):\n",
    "```\n",
    "- 接收训练数据、折数和各种训练参数\n",
    "- 包括学习率、权重衰减、批量大小等超参数\n",
    "\n",
    "2. **交叉验证循环**：\n",
    "```python\n",
    "for i in range(k):\n",
    "    data = get_k_fold_data(k, i, X_train, y_train)\n",
    "    net = get_net()\n",
    "```\n",
    "- 进行k次训练\n",
    "- 每次使用不同的数据划分\n",
    "- 每次都创建一个新的神经网络\n",
    "\n",
    "3. **模型编译**：\n",
    "```python\n",
    "net.compile(loss=keras.losses.mean_squared_logarithmic_error,\n",
    "           optimizer=keras.optimizers.Adam(learning_rate))\n",
    "```\n",
    "- 使用均方对数误差作为损失函数\n",
    "- 使用Adam优化器\n",
    "- 设置指定的学习率\n",
    "\n",
    "4. **模型训练**：\n",
    "```python\n",
    "history = net.fit(data[0], data[1],\n",
    "                 validation_data=(data[2], data[3]),\n",
    "                 epochs=num_epochs,\n",
    "                 batch_size=batch_size,\n",
    "                 validation_freq=1,\n",
    "                 verbose=0)\n",
    "```\n",
    "- 使用训练数据训练模型\n",
    "- 同时使用验证数据评估模型\n",
    "- 记录训练过程中的损失变化\n",
    "\n",
    "5. **结果输出和可视化**：\n",
    "```python\n",
    "print('fold %d, train rmse %f, valid rmse %f' % (i, loss[-1], val_loss[-1]))\n",
    "plt.subplot(1, 2, 2)\n",
    "plt.plot(loss, label='train')\n",
    "plt.plot(val_loss, label='valid')\n",
    "```\n",
    "- 打印每一折的训练和验证误差\n",
    "- 绘制损失曲线图\n",
    "- 显示训练过程中损失的变化趋势\n",
    "\n",
    "这个函数的主要目的是：\n",
    "- 实现完整的K折交叉验证训练流程\n",
    "- 评估模型的泛化性能\n",
    "- 可视化训练过程\n",
    "- 帮助调整和优化模型参数\n",
    "\n",
    "通过这种方式，我们可以：\n",
    "- 更好地评估模型性能\n",
    "- 避免过拟合\n",
    "- 获得更可靠的模型评估结果\n",
    "- 直观地观察模型训练过程"
   ]
  },
  {
   "cell_type": "code",
   "execution_count": 13,
   "metadata": {},
   "outputs": [],
   "source": [
    "def k_fold(k, X_train, y_train, num_epochs, learning_rate, weight_decay, batch_size):\n",
    "    \"\"\"K折交叉验证训练函数\n",
    "\n",
    "    Args:\n",
    "        k: 折数\n",
    "        X_train: 训练特征数据\n",
    "        y_train: 训练标签数据 \n",
    "        num_epochs: 训练轮数\n",
    "        learning_rate: 学习率\n",
    "        weight_decay: 权重衰减\n",
    "        batch_size: 批量大小\n",
    "    \"\"\"\n",
    "\n",
    "    # 创建一个图表用于显示所有折的结果\n",
    "    plt.figure(figsize=(10, 6))\n",
    "\n",
    "    # 使用颜色映射来处理任意数量的折\n",
    "    import matplotlib.cm as cm\n",
    "    colors = cm.rainbow(np.linspace(0, 1, k))\n",
    "\n",
    "    for i in range(k):\n",
    "      data = get_k_fold_data(k, i, X_train, y_train)\n",
    "      net = get_net()\n",
    "\n",
    "      net.compile(\n",
    "          loss=keras.losses.MeanSquaredLogarithmicError(),\n",
    "          optimizer=keras.optimizers.Adam(learning_rate)\n",
    "      )\n",
    "\n",
    "      history = net.fit(\n",
    "          data[0],\n",
    "          data[1],\n",
    "          validation_data=(data[2], data[3]),\n",
    "          epochs=num_epochs,\n",
    "          batch_size=batch_size,\n",
    "          validation_freq=1,\n",
    "          verbose=0\n",
    "      )\n",
    "\n",
    "      loss = history.history['loss']\n",
    "      val_loss = history.history['val_loss']\n",
    "\n",
    "      print('fold %d, train rmse %f, valid rmse %f' % (i, loss[-1], val_loss[-1]))\n",
    "\n",
    "      # 使用颜色映射中的颜色\n",
    "      plt.plot(loss,\n",
    "               color=colors[i],\n",
    "               linestyle='-', \n",
    "               label=f'train_fold_{i}')\n",
    "      plt.plot(val_loss,\n",
    "               color=colors[i],\n",
    "               linestyle='--',\n",
    "               label=f'valid_fold_{i}')\n",
    "\n",
    "    plt.xlabel('Epoch')\n",
    "    plt.ylabel('Loss')\n",
    "    plt.title('Training and Validation Loss for All Folds')\n",
    "    plt.legend(loc='upper right')\n",
    "    plt.grid(True)\n",
    "    plt.show()"
   ]
  },
  {
   "cell_type": "markdown",
   "metadata": {},
   "source": [
    "### 3.16.6. 模型选择\n",
    "我们使用一组未经调优的超参数并计算交叉验证误差。可以改动这些超参数来尽可能减小平均测试误差"
   ]
  },
  {
   "cell_type": "code",
   "execution_count": 14,
   "metadata": {},
   "outputs": [
    {
     "name": "stdout",
     "output_type": "stream",
     "text": [
      "fold 0, train rmse 29.185255, valid rmse 29.329741\n",
      "fold 1, train rmse 26.157846, valid rmse 26.234379\n",
      "fold 2, train rmse 27.096159, valid rmse 27.250902\n",
      "fold 3, train rmse 27.167912, valid rmse 26.748205\n",
      "fold 4, train rmse 26.173740, valid rmse 26.263100\n"
     ]
    },
    {
     "data": {
      "image/png": "[encoded data removed]",
      "text/plain": [
       "<Figure size 1000x600 with 1 Axes>"
      ]
     },
     "metadata": {},
     "output_type": "display_data"
    }
   ],
   "source": [
    "k, num_epochs, lr, weight_decay, batch_size = 5, 100, 0.1, 0, 64\n",
    "k_fold(k, train_features, \n",
    "       train_labels, num_epochs, lr,\n",
    "       weight_decay, batch_size)"
   ]
  },
  {
   "cell_type": "markdown",
   "metadata": {},
   "source": [
    "### 3.16.7. 预测并在Kaggle提交结果\n",
    "下面定义预测函数。在预测之前，我们会使用完整的训练数据集来重新训练模型，并将预测结果存成提交所需要的格式。"
   ]
  },
  {
   "cell_type": "markdown",
   "metadata": {},
   "source": [
    "1. **数据准备**：\n",
    "```python\n",
    "x_train = tf.convert_to_tensor(train_features, dtype=tf.float32)\n",
    "y_train = tf.convert_to_tensor(train_labels, dtype=tf.float32)\n",
    "x_test = tf.convert_to_tensor(test_features, dtype=tf.float32)\n",
    "```\n",
    "- 将训练特征、训练标签和测试特征转换为TensorFlow张量\n",
    "- 指定数据类型为float32，确保数值计算的准确性\n",
    "\n",
    "2. **模型构建**：\n",
    "```python\n",
    "model = keras.models.Sequential([\n",
    "    keras.layers.Dense(1)\n",
    "])\n",
    "```\n",
    "- 创建一个简单的线性回归模型\n",
    "- 只包含一个全连接层，输出维度为1（预测房价）\n",
    "\n",
    "3. **模型配置**：\n",
    "```python\n",
    "model.compile(\n",
    "    optimizer=keras.optimizers.Adam(0.5),\n",
    "    loss=keras.losses.MeanSquaredLogarithmicError()\n",
    ")\n",
    "```\n",
    "- 使用Adam优化器，学习率设为0.5\n",
    "- 使用均方对数误差作为损失函数（适合房价预测这类正值预测问题）\n",
    "\n",
    "4. **模型训练**：\n",
    "```python\n",
    "model.fit(x_train, y_train, epochs=200, batch_size=32, verbose=0)\n",
    "```\n",
    "- 训练200个周期\n",
    "- 每批次使用32个样本\n",
    "- verbose=0表示不打印训练过程\n",
    "\n",
    "5. **预测和结果处理**：\n",
    "```python\n",
    "preds = np.array(model.predict(x_test))\n",
    "test_data['SalePrice'] = pd.Series(preds.reshape(1, -1)[0])\n",
    "```\n",
    "- 使用训练好的模型对测试数据进行预测\n",
    "- 将预测结果重塑并添加到测试数据框中\n",
    "\n",
    "6. **生成提交文件**：\n",
    "```python\n",
    "submission = pd.concat([test_data['Id'], test_data['SalePrice']], axis=1)\n",
    "submission.to_csv('submission.csv', index=False)\n",
    "```\n",
    "- 将预测的房价与房屋ID合并\n",
    "- 保存为CSV文件，用于竞赛提交\n",
    "\n",
    "这个代码展示了一个完整的机器学习项目流程：\n",
    "- 数据准备\n",
    "- 模型构建\n",
    "- 模型训练\n",
    "- 预测\n",
    "- 结果导出\n"
   ]
  },
  {
   "cell_type": "code",
   "execution_count": 15,
   "metadata": {},
   "outputs": [
    {
     "name": "stdout",
     "output_type": "stream",
     "text": [
      "\u001b[1m46/46\u001b[0m \u001b[32m━━━━━━━━━━━━━━━━━━━━\u001b[0m\u001b[37m\u001b[0m \u001b[1m0s\u001b[0m 540us/step\n"
     ]
    }
   ],
   "source": [
    "x_train=tf.convert_to_tensor(train_features,dtype=tf.float32)\n",
    "y_train=tf.convert_to_tensor(train_labels,dtype=tf.float32)\n",
    "x_test=tf.convert_to_tensor(test_features,dtype=tf.float32)\n",
    "model=keras.models.Sequential([\n",
    "  keras.layers.Dense(1)\n",
    "])\n",
    "\n",
    "model.compile(\n",
    "    optimizer=keras.optimizers.Adam(0.5),\n",
    "    loss=keras.losses.MeanSquaredLogarithmicError()\n",
    ")\n",
    "model.fit(x_train, y_train, epochs=200, batch_size=32, verbose=0)\n",
    "preds=np.array(model.predict(x_test))\n",
    "test_data['SalePrice'] = pd.Series(preds.reshape(1, -1)[0])\n",
    "submission = pd.concat([test_data['Id'], test_data['SalePrice']], axis=1)\n",
    "submission.to_csv('submission.csv', index=False)"
   ]
  }
 ],
 "metadata": {
  "kernelspec": {
   "display_name": "Python 3",
   "language": "python",
   "name": "python3"
  },
  "language_info": {
   "codemirror_mode": {
    "name": "ipython",
    "version": 3
   },
   "file_extension": ".py",
   "mimetype": "text/x-python",
   "name": "python",
   "nbconvert_exporter": "python",
   "pygments_lexer": "ipython3",
   "version": "3.12.7"
  }
 },
 "nbformat": 4,
 "nbformat_minor": 2
}
