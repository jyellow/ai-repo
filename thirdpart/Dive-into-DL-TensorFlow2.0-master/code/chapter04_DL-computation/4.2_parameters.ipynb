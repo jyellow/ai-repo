{
 "cells": [
  {
   "cell_type": "markdown",
   "metadata": {},
   "source": [
    "# 模型参数的访问、初始化和共享\n",
    "\n",
    "在[“线性回归的简洁实现”]一节中，我们通过`init`模块来初始化模型的全部参数。我们也介绍了访问模型参数的简单方法。本节将深入讲解如何访问和初始化模型参数，以及如何在多个层之间共享同一份模型参数。\n",
    "\n",
    "我们先定义一个与上一节中相同的含单隐藏层的多层感知机。我们依然使用默认方式初始化它的参数，并做一次前向计算。"
   ]
  },
  {
   "cell_type": "code",
   "execution_count": null,
   "metadata": {},
   "outputs": [],
   "source": [
    "import tensorflow as tf\n",
    "import numpy as np\n",
    "print(tf.__version__)"
   ]
  },
  {
   "cell_type": "code",
   "execution_count": null,
   "metadata": {},
   "outputs": [],
   "source": [
    "net = tf.keras.models.Sequential()\n",
    "net.add(tf.keras.layers.Flatten())\n",
    "net.add(tf.keras.layers.Dense(256,activation=tf.nn.relu))\n",
    "net.add(tf.keras.layers.Dense(10))\n",
    "\n",
    "X = tf.random.uniform((2,20))\n",
    "Y = net(X)\n",
    "Y"
   ]
  },
  {
   "cell_type": "markdown",
   "metadata": {},
   "source": [
    "## 4.2.1 access model parameters\n",
    "\n",
    "对于使用`Sequential`类构造的神经网络，我们可以通过weights属性来访问网络任一层的权重。回忆一下上一节中提到的`Sequential`类与`tf.keras.Model`类的继承关系。对于`Sequential`实例中含模型参数的层，我们可以通过`tf.keras.Model`类的`weights`属性来访问该层包含的所有参数。下面，访问多层感知机`net`中隐藏层的所有参数。索引0表示隐藏层为`Sequential`实例最先添加的层。"
   ]
  },
  {
   "cell_type": "code",
   "execution_count": null,
   "metadata": {},
   "outputs": [],
   "source": [
    "net.weights[0], type(net.weights[0])"
   ]
  },
  {
   "cell_type": "markdown",
   "metadata": {},
   "source": [
    "## 4.2.2 initialize params\n",
    "\n",
    "我们在[“数值稳定性和模型初始化”]一节中描述了模型的默认初始化方法：权重参数元素为[-0.07, 0.07]之间均匀分布的随机数，偏差参数则全为0。但我们经常需要使用其他方法来初始化权重。在下面的例子中，我们将权重参数初始化成均值为0、标准差为0.01的正态分布随机数，并依然将偏差参数清零。"
   ]
  },
  {
   "cell_type": "markdown",
   "metadata": {},
   "source": [
    "\n",
    "\n",
    "\n",
    "\n",
    "\n",
    "\n",
    "\n",
    "\n",
    "\n",
    "\n",
    "\n",
    "\n",
    "\n",
    "\n",
    "\n",
    "\n",
    "这是一个自定义的线性神经网络类，具有特定的初始化设置。让我详细解释其结构和特点：\n",
    "\n",
    "1. **类的定义**：\n",
    "```python\n",
    "class Linear(tf.keras.Model):\n",
    "```\n",
    "\n",
    "- 继承自tf.keras.Model\n",
    "- 实现了一个两层的线性网络\n",
    "\n",
    "2. **第一个全连接层**：\n",
    "```python\n",
    "self.d1 = tf.keras.layers.Dense(\n",
    "    units=10,\n",
    "    activation=None,\n",
    "    kernel_initializer=tf.random_normal_initializer(mean=0,stddev=0.01),\n",
    "    bias_initializer=tf.zeros_initializer()\n",
    ")\n",
    "```\n",
    "\n",
    "特点：\n",
    "- 10个神经元\n",
    "- 无激活函数（线性）\n",
    "- 权重初始化：使用均值为0，标准差为0.01的正态分布\n",
    "- 偏置初始化：全部初始化为0\n",
    "\n",
    "3. **第二个全连接层**：\n",
    "```python\n",
    "self.d2 = tf.keras.layers.Dense(\n",
    "    units=1,\n",
    "    activation=None,\n",
    "    kernel_initializer=tf.ones_initializer(),\n",
    "    bias_initializer=tf.ones_initializer()\n",
    ")\n",
    "```\n",
    "\n",
    "特点：\n",
    "- 1个神经元（输出层）\n",
    "- 无激活函数（线性）\n",
    "- 权重初始化：全部初始化为1\n",
    "- 偏置初始化：全部初始化为1\n",
    "\n",
    "4. **前向传播**：\n",
    "```python\n",
    "def call(self, input):\n",
    "    output = self.d1(input)\n",
    "    output = self.d2(output)\n",
    "    return output\n",
    "```\n",
    "\n",
    "- 数据依次通过两个全连接层\n",
    "- 保持线性特性（没有非线性激活函数）\n",
    "\n",
    "这个网络的特点：\n",
    "1. **完全线性**：\n",
    "   - 没有使用任何非线性激活函数\n",
    "   - 整个网络实现的是线性变换\n",
    "\n",
    "2. **特殊的初始化策略**：\n",
    "   - 第一层使用随机正态分布初始化\n",
    "   - 第二层使用全1初始化\n",
    "   - 体现了不同的参数初始化方法\n",
    "\n",
    "3. **简单的结构**：\n",
    "   - 输入 -> 10个神经元 -> 1个输出\n",
    "   - 适合简单的回归任务\n"
   ]
  },
  {
   "cell_type": "code",
   "execution_count": 4,
   "metadata": {},
   "outputs": [],
   "source": [
    "class Linear(tf.keras.Model):\n",
    "    def __init__(self):\n",
    "        super().__init__()\n",
    "        self.d1 = tf.keras.layers.Dense(\n",
    "            units=10,\n",
    "            activation=None,\n",
    "            kernel_initializer=tf.random_normal_initializer(mean=0,stddev=0.01),\n",
    "            bias_initializer=tf.zeros_initializer()\n",
    "        )\n",
    "        self.d2 = tf.keras.layers.Dense(\n",
    "            units=1,\n",
    "            activation=None,\n",
    "            kernel_initializer=tf.ones_initializer(),\n",
    "            bias_initializer=tf.ones_initializer()\n",
    "        )\n",
    "\n",
    "    def call(self, input):\n",
    "        output = self.d1(input)\n",
    "        output = self.d2(output)\n",
    "        return output\n"
   ]
  },
  {
   "cell_type": "code",
   "execution_count": 5,
   "metadata": {},
   "outputs": [
    {
     "data": {
      "text/plain": [
       "[array([[ 7.77104753e-04,  2.04039668e-03, -2.09118426e-02,\n",
       "          8.41928180e-03,  2.46993708e-03, -7.85500556e-03,\n",
       "         -1.02335252e-02, -2.48877835e-02, -5.46165043e-03,\n",
       "         -2.80203912e-02],\n",
       "        [ 6.11077482e-03, -3.60709266e-03, -1.50499190e-03,\n",
       "         -8.58556665e-03, -8.74759443e-03,  5.21494122e-03,\n",
       "         -2.61842622e-03, -1.56951975e-02, -2.11102404e-02,\n",
       "         -2.13669497e-03],\n",
       "        [ 1.47113735e-02, -1.87969767e-02,  5.44861308e-04,\n",
       "          8.79167393e-03, -7.01406272e-03, -2.23390758e-03,\n",
       "         -7.23033911e-03,  1.33407116e-02, -1.31247956e-02,\n",
       "          3.71440337e-03],\n",
       "        [-1.86755485e-03,  2.76029343e-03,  4.24003601e-03,\n",
       "         -7.66812405e-03, -1.18439202e-03,  2.97244638e-03,\n",
       "         -1.18275480e-02, -6.79787016e-03, -4.63147834e-03,\n",
       "         -6.81351637e-03],\n",
       "        [ 5.22201788e-03, -4.70648939e-03,  7.02407025e-03,\n",
       "         -7.97325931e-03,  5.82225854e-03, -5.85760223e-03,\n",
       "         -1.20407308e-03, -1.72030907e-02,  4.56312997e-03,\n",
       "         -2.45452132e-02],\n",
       "        [-8.64583440e-03, -2.72264169e-03,  7.49530969e-03,\n",
       "          8.93509760e-03,  1.27841495e-02,  1.12969624e-02,\n",
       "         -2.27153650e-03, -2.53809281e-02, -6.86910003e-04,\n",
       "         -5.30239753e-03],\n",
       "        [-2.58057248e-02,  4.39759949e-03,  4.56052274e-03,\n",
       "          8.44724011e-03,  1.92202651e-03, -2.74315156e-04,\n",
       "         -1.19542156e-03,  3.02921189e-03, -8.47600400e-03,\n",
       "         -2.77709262e-03],\n",
       "        [-1.70860887e-02, -1.03819668e-02, -1.39196236e-02,\n",
       "          2.09488440e-02, -8.10578745e-03, -3.33372527e-03,\n",
       "          6.12365175e-03,  1.17009245e-02, -1.15391733e-02,\n",
       "          2.51895445e-03],\n",
       "        [ 4.91632102e-03, -9.98266041e-03,  1.20604681e-02,\n",
       "         -3.24832555e-03,  1.15994113e-02,  5.25528239e-03,\n",
       "          5.91043383e-03,  3.40792025e-03, -1.93575248e-02,\n",
       "         -2.32940493e-03],\n",
       "        [ 4.58378065e-03,  4.45205951e-03,  1.14028156e-02,\n",
       "          3.86477390e-04,  1.01313051e-02, -7.81350769e-03,\n",
       "         -3.62453354e-03,  7.07110995e-03,  6.58052973e-03,\n",
       "          5.22087514e-03],\n",
       "        [-3.45314713e-03,  9.56837088e-04,  1.16023049e-02,\n",
       "          9.02420934e-03, -3.63154290e-03, -1.07416306e-02,\n",
       "         -3.64386942e-03, -8.48511874e-04, -6.25313399e-03,\n",
       "          2.97671929e-02],\n",
       "        [ 2.67844112e-03,  1.15408900e-03,  1.39754051e-02,\n",
       "         -6.70021353e-03, -2.58454191e-03,  3.55662103e-03,\n",
       "          7.57065509e-03,  6.36098860e-03,  4.92326857e-04,\n",
       "          1.12599256e-02],\n",
       "        [-1.75086909e-03,  3.70974233e-03, -4.02488327e-03,\n",
       "          2.03554344e-04, -2.69609410e-03, -3.34181683e-03,\n",
       "          3.55626107e-04,  4.30341810e-03, -7.26645626e-03,\n",
       "         -2.27938639e-03],\n",
       "        [-1.64324567e-02, -1.42116565e-02,  7.89459981e-03,\n",
       "          8.19168705e-03,  1.92927290e-02,  4.02394822e-03,\n",
       "         -9.32713877e-03,  6.92969980e-03, -5.21948561e-04,\n",
       "         -2.22507142e-03],\n",
       "        [-8.53112713e-03,  3.37578030e-03,  4.03571082e-03,\n",
       "          3.14807473e-03,  8.19630176e-03, -1.03258826e-02,\n",
       "         -5.62103523e-04,  2.95960694e-03,  5.34127001e-03,\n",
       "         -1.04582962e-02],\n",
       "        [ 9.33162030e-03,  7.47191347e-03, -7.38819130e-04,\n",
       "         -1.34246219e-02,  5.90785267e-03, -4.01706435e-03,\n",
       "          5.01302537e-03,  2.63368165e-05,  1.10931287e-03,\n",
       "         -3.64758773e-04],\n",
       "        [-1.39334509e-02,  8.71438388e-05,  1.14069935e-02,\n",
       "          1.77129321e-02,  1.38970464e-02, -7.20528420e-03,\n",
       "          1.33278137e-02,  2.79700872e-03,  3.20210727e-03,\n",
       "         -1.28589384e-02],\n",
       "        [-1.76800147e-03, -3.46212136e-03,  2.03719977e-02,\n",
       "          2.47098766e-02,  2.78186076e-03, -7.94918183e-03,\n",
       "         -1.52369952e-02, -6.36116648e-03,  2.98121618e-03,\n",
       "          1.71739180e-02],\n",
       "        [-5.55704162e-03, -4.70618950e-03,  4.12974786e-03,\n",
       "          1.64021098e-03, -9.19696037e-03, -7.03076657e-04,\n",
       "         -7.07922783e-03, -4.32556216e-03,  4.05395729e-03,\n",
       "         -1.47191333e-02],\n",
       "        [-5.01733599e-03,  7.59737659e-03, -3.32450122e-03,\n",
       "          1.86999813e-02,  4.45261505e-03,  1.83484294e-02,\n",
       "         -7.95552693e-03, -9.89810657e-03, -2.73886765e-03,\n",
       "         -4.71541891e-03]], dtype=float32),\n",
       " array([0., 0., 0., 0., 0., 0., 0., 0., 0., 0.], dtype=float32),\n",
       " array([[1.],\n",
       "        [1.],\n",
       "        [1.],\n",
       "        [1.],\n",
       "        [1.],\n",
       "        [1.],\n",
       "        [1.],\n",
       "        [1.],\n",
       "        [1.],\n",
       "        [1.]], dtype=float32),\n",
       " array([1.], dtype=float32)]"
      ]
     },
     "execution_count": 5,
     "metadata": {},
     "output_type": "execute_result"
    }
   ],
   "source": [
    "net = Linear()\n",
    "net(X)\n",
    "net.get_weights()"
   ]
  },
  {
   "cell_type": "markdown",
   "metadata": {},
   "source": [
    "## 4.2.3 define initializer\n",
    "\n",
    "可以使用`tf.keras.initializers`类中的方法实现自定义初始化。"
   ]
  },
  {
   "cell_type": "markdown",
   "metadata": {},
   "source": [
    "\n",
    "\n",
    "\n",
    "\n",
    "\n",
    "\n",
    "\n",
    "\n",
    "\n",
    "\n",
    "\n",
    "\n",
    "\n",
    "\n",
    "这段代码展示了如何使用自定义初始化器来创建神经网络层。让我详细解释：\n",
    "\n",
    "1. **自定义初始化函数**：\n",
    "```python\n",
    "def my_init():\n",
    "    return tf.keras.initializers.Ones()\n",
    "```\n",
    "\n",
    "- 定义了一个返回初始化器的函数\n",
    "- 这里返回了一个全1初始化器\n",
    "- 这是一个简单的工厂函数模式\n",
    "\n",
    "2. **创建模型**：\n",
    "```python\n",
    "model = tf.keras.models.Sequential()\n",
    "```\n",
    "\n",
    "- 创建一个顺序模型\n",
    "- 用于构建线性堆叠的神经网络\n",
    "\n",
    "3. **添加层**：\n",
    "```python\n",
    "model.add(tf.keras.layers.Dense(64, kernel_initializer=my_init()))\n",
    "```\n",
    "\n",
    "- 添加一个具有64个神经元的全连接层\n",
    "- 使用自定义的初始化器函数\n",
    "- 所有权重都会被初始化为1\n",
    "\n",
    "这段代码的特点：\n",
    "- 展示了如何自定义权重初始化方法\n",
    "- 通过函数封装使初始化器更灵活\n",
    "- 可以轻松替换不同的初始化策略\n"
   ]
  },
  {
   "cell_type": "code",
   "execution_count": 6,
   "metadata": {},
   "outputs": [],
   "source": [
    "def my_init():\n",
    "    return tf.keras.initializers.Ones()\n",
    "\n",
    "model = tf.keras.models.Sequential()\n",
    "model.add(tf.keras.layers.Dense(64, kernel_initializer=my_init()))"
   ]
  },
  {
   "cell_type": "code",
   "execution_count": 7,
   "metadata": {},
   "outputs": [
    {
     "data": {
      "text/plain": [
       "<KerasVariable shape=(20, 64), dtype=float32, path=sequential_1/dense_4/kernel>"
      ]
     },
     "execution_count": 7,
     "metadata": {},
     "output_type": "execute_result"
    }
   ],
   "source": [
    "Y = model(X)\n",
    "model.weights[0]"
   ]
  },
  {
   "cell_type": "code",
   "execution_count": null,
   "metadata": {},
   "outputs": [],
   "source": []
  }
 ],
 "metadata": {
  "file_extension": ".py",
  "kernelspec": {
   "display_name": "tf2-env",
   "language": "python",
   "name": "python3"
  },
  "language_info": {
   "codemirror_mode": {
    "name": "ipython",
    "version": 3
   },
   "file_extension": ".py",
   "mimetype": "text/x-python",
   "name": "python",
   "nbconvert_exporter": "python",
   "pygments_lexer": "ipython3",
   "version": "3.12.7"
  },
  "mimetype": "text/x-python",
  "name": "python",
  "npconvert_exporter": "python",
  "pygments_lexer": "ipython3",
  "varInspector": {
   "cols": {
    "lenName": 16,
    "lenType": 16,
    "lenVar": 40
   },
   "kernels_config": {
    "python": {
     "delete_cmd_postfix": "",
     "delete_cmd_prefix": "del ",
     "library": "var_list.py",
     "varRefreshCmd": "print(var_dic_list())"
    },
    "r": {
     "delete_cmd_postfix": ") ",
     "delete_cmd_prefix": "rm(",
     "library": "var_list.r",
     "varRefreshCmd": "cat(var_dic_list()) "
    }
   },
   "types_to_exclude": [
    "module",
    "function",
    "builtin_function_or_method",
    "instance",
    "_Feature"
   ],
   "window_display": false
  },
  "version": 3
 },
 "nbformat": 4,
 "nbformat_minor": 2
}
