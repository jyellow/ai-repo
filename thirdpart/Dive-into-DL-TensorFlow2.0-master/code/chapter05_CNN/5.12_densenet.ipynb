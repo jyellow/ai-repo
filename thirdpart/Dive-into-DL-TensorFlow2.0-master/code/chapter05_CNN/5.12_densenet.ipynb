{
 "cells": [
  {
   "cell_type": "markdown",
   "id": "89f09422",
   "metadata": {
    "papermill": {
     "duration": 0.005214,
     "end_time": "2024-10-22T10:53:14.973486",
     "exception": false,
     "start_time": "2024-10-22T10:53:14.968272",
     "status": "completed"
    },
    "tags": []
   },
   "source": [
    "# 5.12 稠密连接网络（DenseNet）\n",
    "参考链接：https://zh.d2l.ai/chapter_convolutional-modern/densenet.html\n",
    "\n",
    "ResNet中的跨层连接设计引申出了数个后续工作。本节我们介绍其中的一个：稠密连接网络（DenseNet） [1]。 它与ResNet的主要区别如图5.10所示。\n",
    "\n",
    "<div align=center>\n",
    "<img width=\"400\" src=\"../img/densenet.svg\"/>\n",
    "</div>\n",
    "<div align=center>图5.10 ResNet（左）与DenseNet（右）在跨层连接上的主要区别：使用相加和使用连结</div>\n",
    "图5.10中将部分前后相邻的运算抽象为模块$A$和模块$B$。与ResNet的主要区别在于，DenseNet里模块$B$的输出不是像ResNet那样和模块$A$的输出相加，而是在通道维上连结。这样模块$A$的输出可以直接传入模块$B$后面的层。在这个设计里，模块$A$直接跟模块$B$后面的所有层连接在了一起。这也是它被称为“稠密连接”的原因。\n",
    "\n",
    "DenseNet的主要构建模块是稠密块（dense block）和过渡层（transition layer）。前者定义了输入和输出是如何连结的，后者则用来控制通道数，使之不过大。\n",
    "\n",
    "\n",
    "## 5.12.1 稠密块\n",
    "\n",
    "DenseNet使用了ResNet改良版的“批量归一化、激活和卷积”结构，我们首先在`BottleNeck`函数里实现这个结构。在前向计算时，我们将每块的输入和输出在通道维上连结。"
   ]
  },
  {
   "cell_type": "code",
   "execution_count": 1,
   "id": "c5c31916",
   "metadata": {
    "execution": {
     "iopub.execute_input": "2024-10-22T10:53:14.984141Z",
     "iopub.status.busy": "2024-10-22T10:53:14.983792Z",
     "iopub.status.idle": "2024-10-22T10:53:27.651660Z",
     "shell.execute_reply": "2024-10-22T10:53:27.650839Z"
    },
    "papermill": {
     "duration": 12.675844,
     "end_time": "2024-10-22T10:53:27.654085",
     "exception": false,
     "start_time": "2024-10-22T10:53:14.978241",
     "status": "completed"
    },
    "tags": []
   },
   "outputs": [],
   "source": [
    "import tensorflow as tf\n",
    "\n",
    "class BottleNeck(tf.keras.layers.Layer):\n",
    "    def __init__(self, growth_rate, drop_rate):\n",
    "        super(BottleNeck, self).__init__()\n",
    "        # 第一个批量归一化层\n",
    "        self.bn1 = tf.keras.layers.BatchNormalization()\n",
    "        # 第一个卷积层，使用1x1卷积核，输出通道数为growth_rate的4倍\n",
    "        self.conv1 = tf.keras.layers.Conv2D(filters=4 * growth_rate,\n",
    "                                            kernel_size=(1, 1),\n",
    "                                            strides=1,\n",
    "                                            padding=\"same\")\n",
    "        # 第二个批量归一化层\n",
    "        self.bn2 = tf.keras.layers.BatchNormalization()\n",
    "        # 第二个卷积层，使用3x3卷积核，输出通道数为growth_rate\n",
    "        self.conv2 = tf.keras.layers.Conv2D(filters=growth_rate,\n",
    "                                            kernel_size=(3, 3),\n",
    "                                            strides=1,\n",
    "                                            padding=\"same\")\n",
    "        # Dropout层，用于防止过拟合\n",
    "        self.dropout = tf.keras.layers.Dropout(rate=drop_rate)\n",
    "        \n",
    "        # 将所有层组合成一个列表，方便在call方法中遍历\n",
    "        self.listLayers = [\n",
    "            self.bn1,\n",
    "            tf.keras.layers.Activation(\"relu\"),\n",
    "            self.conv1,\n",
    "            self.bn2,\n",
    "            tf.keras.layers.Activation(\"relu\"),\n",
    "            self.conv2,\n",
    "            self.dropout\n",
    "        ]\n",
    "\n",
    "    def call(self, x):\n",
    "        y = x\n",
    "        # 依次通过每一层\n",
    "        for layer in self.listLayers:\n",
    "            y = layer(y)\n",
    "        # 将输入x与输出y在通道维度上连接\n",
    "        y = tf.keras.layers.concatenate([x,y], axis=-1)\n",
    "        return y"
   ]
  },
  {
   "cell_type": "markdown",
   "id": "cd3a7042",
   "metadata": {
    "papermill": {
     "duration": 0.0045,
     "end_time": "2024-10-22T10:53:27.663537",
     "exception": false,
     "start_time": "2024-10-22T10:53:27.659037",
     "status": "completed"
    },
    "tags": []
   },
   "source": [
    "稠密块由多个`BottleNeck`组成，每块使用相同的输出通道数。"
   ]
  },
  {
   "cell_type": "code",
   "execution_count": 2,
   "id": "c39ce57e",
   "metadata": {
    "execution": {
     "iopub.execute_input": "2024-10-22T10:53:27.674830Z",
     "iopub.status.busy": "2024-10-22T10:53:27.673696Z",
     "iopub.status.idle": "2024-10-22T10:53:27.680810Z",
     "shell.execute_reply": "2024-10-22T10:53:27.679943Z"
    },
    "papermill": {
     "duration": 0.014565,
     "end_time": "2024-10-22T10:53:27.682675",
     "exception": false,
     "start_time": "2024-10-22T10:53:27.668110",
     "status": "completed"
    },
    "tags": []
   },
   "outputs": [],
   "source": [
    "class DenseBlock(tf.keras.layers.Layer):\n",
    "    \"\"\"\n",
    "    稠密块类，由多个BottleNeck层组成。\n",
    "\n",
    "    属性:\n",
    "        num_layers (int): 稠密块中BottleNeck层的数量。\n",
    "        growth_rate (int): 增长率，即每个BottleNeck层输出的通道数。\n",
    "        drop_rate (float): Dropout率，用于防止过拟合。\n",
    "        listLayers (list): 存储所有BottleNeck层的列表。\n",
    "    \"\"\"\n",
    "\n",
    "    def __init__(self, num_layers, growth_rate, drop_rate=0.5):\n",
    "        \"\"\"\n",
    "        初始化DenseBlock实例。\n",
    "\n",
    "        参数:\n",
    "            num_layers (int): 稠密块中BottleNeck层的数量。\n",
    "            growth_rate (int): 增长率，即每个BottleNeck层输出的通道数。\n",
    "            drop_rate (float, 可选): Dropout率，默认为0.5。\n",
    "        \"\"\"\n",
    "        super(DenseBlock, self).__init__()\n",
    "        self.num_layers = num_layers\n",
    "        self.growth_rate = growth_rate\n",
    "        self.drop_rate = drop_rate\n",
    "        self.listLayers = []\n",
    "        for _ in range(num_layers):\n",
    "            self.listLayers.append(\n",
    "                BottleNeck(\n",
    "                    growth_rate=self.growth_rate,\n",
    "                    drop_rate=self.drop_rate\n",
    "                )\n",
    "            )\n",
    "\n",
    "    def call(self, x):\n",
    "        \"\"\"\n",
    "        前向传播方法。\n",
    "\n",
    "        参数:\n",
    "            x (Tensor): 输入张量。\n",
    "\n",
    "        返回:\n",
    "            Tensor: 经过所有BottleNeck层处理后的输出张量。\n",
    "        \"\"\"\n",
    "        for layer in self.listLayers:\n",
    "            x = layer(x)\n",
    "        return x"
   ]
  },
  {
   "cell_type": "markdown",
   "id": "34e6188d",
   "metadata": {
    "papermill": {
     "duration": 0.004302,
     "end_time": "2024-10-22T10:53:27.692688",
     "exception": false,
     "start_time": "2024-10-22T10:53:27.688386",
     "status": "completed"
    },
    "tags": []
   },
   "source": [
    "在下面的例子中，我们定义一个有2个输出通道数为10的卷积块。使用通道数为3的输入时，我们会得到通道数为$3+2\\times 10=23$的输出。卷积块的通道数控制了输出通道数相对于输入通道数的增长，因此也被称为增长率（growth rate）。"
   ]
  },
  {
   "cell_type": "code",
   "execution_count": 3,
   "id": "8e094968",
   "metadata": {
    "execution": {
     "iopub.execute_input": "2024-10-22T10:53:27.702947Z",
     "iopub.status.busy": "2024-10-22T10:53:27.702554Z",
     "iopub.status.idle": "2024-10-22T10:53:29.832799Z",
     "shell.execute_reply": "2024-10-22T10:53:29.831537Z"
    },
    "papermill": {
     "duration": 2.138113,
     "end_time": "2024-10-22T10:53:29.835261",
     "exception": false,
     "start_time": "2024-10-22T10:53:27.697148",
     "status": "completed"
    },
    "tags": []
   },
   "outputs": [
    {
     "name": "stdout",
     "output_type": "stream",
     "text": [
      "(4, 8, 8, 23)\n"
     ]
    }
   ],
   "source": [
    "blk = DenseBlock(num_layers=2, growth_rate=10)\n",
    "X = tf.random.uniform((4, 8, 8,3))\n",
    "Y = blk(X)\n",
    "print(Y.shape)"
   ]
  },
  {
   "cell_type": "markdown",
   "id": "cd53ea70",
   "metadata": {
    "papermill": {
     "duration": 0.004623,
     "end_time": "2024-10-22T10:53:29.845173",
     "exception": false,
     "start_time": "2024-10-22T10:53:29.840550",
     "status": "completed"
    },
    "tags": []
   },
   "source": [
    "## 5.12.2 过渡层\n",
    "\n",
    "由于每个稠密块都会带来通道数的增加，使用过多则会带来过于复杂的模型。过渡层用来控制模型复杂度。它通过$1\\times1$卷积层来减小通道数，并使用步幅为2的平均池化层减半高和宽，从而进一步降低模型复杂度。"
   ]
  },
  {
   "cell_type": "code",
   "execution_count": 4,
   "id": "773f4006",
   "metadata": {
    "execution": {
     "iopub.execute_input": "2024-10-22T10:53:29.855887Z",
     "iopub.status.busy": "2024-10-22T10:53:29.855563Z",
     "iopub.status.idle": "2024-10-22T10:53:29.862906Z",
     "shell.execute_reply": "2024-10-22T10:53:29.861755Z"
    },
    "papermill": {
     "duration": 0.015002,
     "end_time": "2024-10-22T10:53:29.864892",
     "exception": false,
     "start_time": "2024-10-22T10:53:29.849890",
     "status": "completed"
    },
    "tags": []
   },
   "outputs": [],
   "source": [
    "class TransitionLayer(tf.keras.layers.Layer):\n",
    "    \"\"\"\n",
    "    过渡层，用于控制模型复杂度。\n",
    "    通过1x1卷积层减小通道数，并使用步长为2的最大池化层减半高和宽。\n",
    "    \"\"\"\n",
    "\n",
    "    def __init__(self, out_channels):\n",
    "        \"\"\"\n",
    "        初始化过渡层。\n",
    "\n",
    "        参数:\n",
    "            out_channels (int): 输出通道数\n",
    "        \"\"\"\n",
    "        super(TransitionLayer, self).__init__()\n",
    "        self.bn = tf.keras.layers.BatchNormalization()\n",
    "        self.conv = tf.keras.layers.Conv2D(filters=out_channels,\n",
    "                                           kernel_size=(1, 1),\n",
    "                                           strides=1,\n",
    "                                           padding=\"same\")\n",
    "        self.pool = tf.keras.layers.MaxPool2D(pool_size=(2, 2),\n",
    "                                              strides=2,\n",
    "                                              padding=\"same\")\n",
    "\n",
    "    def call(self, inputs):\n",
    "        \"\"\"\n",
    "        定义前向传播。\n",
    "\n",
    "        参数:\n",
    "            inputs (Tensor): 输入张量\n",
    "\n",
    "        返回:\n",
    "            Tensor: 经过批归一化、ReLU激活、1x1卷积和最大池化后的输出张量\n",
    "        \"\"\"\n",
    "        x = self.bn(inputs)\n",
    "        x = tf.keras.activations.relu(x)\n",
    "        x = self.conv(x)\n",
    "        x = self.pool(x)\n",
    "        return x"
   ]
  },
  {
   "cell_type": "markdown",
   "id": "2a93bec5",
   "metadata": {
    "papermill": {
     "duration": 0.004522,
     "end_time": "2024-10-22T10:53:29.874222",
     "exception": false,
     "start_time": "2024-10-22T10:53:29.869700",
     "status": "completed"
    },
    "tags": []
   },
   "source": [
    "对上一个例子中稠密块的输出使用通道数为10的过渡层。此时输出的通道数减为10，高和宽均减半。"
   ]
  },
  {
   "cell_type": "code",
   "execution_count": 5,
   "id": "0edf685d",
   "metadata": {
    "execution": {
     "iopub.execute_input": "2024-10-22T10:53:29.884907Z",
     "iopub.status.busy": "2024-10-22T10:53:29.884595Z",
     "iopub.status.idle": "2024-10-22T10:53:29.953729Z",
     "shell.execute_reply": "2024-10-22T10:53:29.952822Z"
    },
    "papermill": {
     "duration": 0.076647,
     "end_time": "2024-10-22T10:53:29.955627",
     "exception": false,
     "start_time": "2024-10-22T10:53:29.878980",
     "status": "completed"
    },
    "tags": []
   },
   "outputs": [
    {
     "data": {
      "text/plain": [
       "TensorShape([4, 4, 4, 10])"
      ]
     },
     "execution_count": 5,
     "metadata": {},
     "output_type": "execute_result"
    }
   ],
   "source": [
    "blk = TransitionLayer(10)\n",
    "blk(Y).shape"
   ]
  },
  {
   "cell_type": "markdown",
   "id": "f326ffaf",
   "metadata": {
    "papermill": {
     "duration": 0.004709,
     "end_time": "2024-10-22T10:53:29.965414",
     "exception": false,
     "start_time": "2024-10-22T10:53:29.960705",
     "status": "completed"
    },
    "tags": []
   },
   "source": [
    "## 5.12.3 DenseNet模型\n",
    "\n",
    "我们来构造DenseNet模型。DenseNet首先使用同ResNet一样的单卷积层和最大池化层。类似于ResNet接下来使用的4个残差块，DenseNet使用的是4个稠密块。同ResNet一样，我们可以设置每个稠密块使用多少个卷积层。这里我们设成4，从而与上一节的ResNet-18保持一致。稠密块里的卷积层通道数（即增长率）设为32，所以每个稠密块将增加128个通道。\n",
    "\n",
    "ResNet里通过步幅为2的残差块在每个模块之间减小高和宽。这里我们则使用过渡层来减半高和宽，并减半通道数。"
   ]
  },
  {
   "cell_type": "code",
   "execution_count": 6,
   "id": "fbebea8f",
   "metadata": {
    "execution": {
     "iopub.execute_input": "2024-10-22T10:53:29.976433Z",
     "iopub.status.busy": "2024-10-22T10:53:29.976103Z",
     "iopub.status.idle": "2024-10-22T10:53:29.989003Z",
     "shell.execute_reply": "2024-10-22T10:53:29.988164Z"
    },
    "papermill": {
     "duration": 0.020583,
     "end_time": "2024-10-22T10:53:29.990880",
     "exception": false,
     "start_time": "2024-10-22T10:53:29.970297",
     "status": "completed"
    },
    "tags": []
   },
   "outputs": [],
   "source": [
    "class DenseNet(tf.keras.Model):\n",
    "    def __init__(self, num_init_features, growth_rate, block_layers, compression_rate, drop_rate):\n",
    "        super(DenseNet, self).__init__()\n",
    "        self.conv = tf.keras.layers.Conv2D(filters=num_init_features,\n",
    "                                           kernel_size=(7, 7),\n",
    "                                           strides=2,\n",
    "                                           padding=\"same\")\n",
    "        self.bn = tf.keras.layers.BatchNormalization()\n",
    "        self.pool = tf.keras.layers.MaxPool2D(pool_size=(3, 3),\n",
    "                                              strides=2,\n",
    "                                              padding=\"same\")\n",
    "        self.num_channels = num_init_features\n",
    "        self.dense_block_1 = DenseBlock(num_layers=block_layers[0], growth_rate=growth_rate, drop_rate=drop_rate)\n",
    "        self.num_channels += growth_rate * block_layers[0]\n",
    "        self.num_channels = compression_rate * self.num_channels\n",
    "        self.transition_1 = TransitionLayer(out_channels=int(self.num_channels))\n",
    "        self.dense_block_2 = DenseBlock(num_layers=block_layers[1], growth_rate=growth_rate, drop_rate=drop_rate)\n",
    "        self.num_channels += growth_rate * block_layers[1]\n",
    "        self.num_channels = compression_rate * self.num_channels\n",
    "        self.transition_2 = TransitionLayer(out_channels=int(self.num_channels))\n",
    "        self.dense_block_3 = DenseBlock(num_layers=block_layers[2], growth_rate=growth_rate, drop_rate=drop_rate)\n",
    "        self.num_channels += growth_rate * block_layers[2]\n",
    "        self.num_channels = compression_rate * self.num_channels\n",
    "        self.transition_3 = TransitionLayer(out_channels=int(self.num_channels))\n",
    "        self.dense_block_4 = DenseBlock(num_layers=block_layers[3], growth_rate=growth_rate, drop_rate=drop_rate)\n",
    "\n",
    "        self.avgpool = tf.keras.layers.GlobalAveragePooling2D()\n",
    "        self.fc = tf.keras.layers.Dense(units=10,\n",
    "                                        activation=tf.keras.activations.softmax)\n",
    "\n",
    "    def call(self, inputs):\n",
    "        x = self.conv(inputs)\n",
    "        x = self.bn(x)\n",
    "        x = tf.keras.activations.relu(x)\n",
    "        x = self.pool(x)\n",
    "\n",
    "        x = self.dense_block_1(x)\n",
    "        x = self.transition_1(x)\n",
    "        x = self.dense_block_2(x)\n",
    "        x = self.transition_2(x)\n",
    "        x = self.dense_block_3(x)\n",
    "        x = self.transition_3(x,)\n",
    "        x = self.dense_block_4(x)\n",
    "\n",
    "        x = self.avgpool(x)\n",
    "        x = self.fc(x)\n",
    "\n",
    "        return x"
   ]
  },
  {
   "cell_type": "code",
   "execution_count": 7,
   "id": "5f2b1d39",
   "metadata": {
    "execution": {
     "iopub.execute_input": "2024-10-22T10:53:30.001914Z",
     "iopub.status.busy": "2024-10-22T10:53:30.001648Z",
     "iopub.status.idle": "2024-10-22T10:53:30.166248Z",
     "shell.execute_reply": "2024-10-22T10:53:30.165485Z"
    },
    "papermill": {
     "duration": 0.17263,
     "end_time": "2024-10-22T10:53:30.168528",
     "exception": false,
     "start_time": "2024-10-22T10:53:29.995898",
     "status": "completed"
    },
    "tags": []
   },
   "outputs": [],
   "source": [
    "def densenet():\n",
    "    return DenseNet(num_init_features=64, growth_rate=32, block_layers=[4,4,4,4], compression_rate=0.5, drop_rate=0.5)\n",
    "mynet=densenet()"
   ]
  },
  {
   "cell_type": "markdown",
   "id": "8dea10e3",
   "metadata": {
    "papermill": {
     "duration": 0.004927,
     "end_time": "2024-10-22T10:53:30.178889",
     "exception": false,
     "start_time": "2024-10-22T10:53:30.173962",
     "status": "completed"
    },
    "tags": []
   },
   "source": [
    "我们尝试打印每个子模块的输出维度确保网络无误："
   ]
  },
  {
   "cell_type": "code",
   "execution_count": 8,
   "id": "42e1177a",
   "metadata": {
    "execution": {
     "iopub.execute_input": "2024-10-22T10:53:30.190318Z",
     "iopub.status.busy": "2024-10-22T10:53:30.190001Z",
     "iopub.status.idle": "2024-10-22T10:53:32.027737Z",
     "shell.execute_reply": "2024-10-22T10:53:32.026498Z"
    },
    "papermill": {
     "duration": 1.845956,
     "end_time": "2024-10-22T10:53:32.029888",
     "exception": false,
     "start_time": "2024-10-22T10:53:30.183932",
     "status": "completed"
    },
    "tags": []
   },
   "outputs": [
    {
     "name": "stdout",
     "output_type": "stream",
     "text": [
      "conv2d_5 output shape:\t (1, 48, 48, 64)\n",
      "batch_normalization_5 output shape:\t (1, 48, 48, 64)\n",
      "max_pooling2d_1 output shape:\t (1, 24, 24, 64)\n",
      "dense_block_1 output shape:\t (1, 24, 24, 192)\n",
      "transition_layer_1 output shape:\t (1, 12, 12, 96)\n",
      "dense_block_2 output shape:\t (1, 12, 12, 224)\n",
      "transition_layer_2 output shape:\t (1, 6, 6, 112)\n",
      "dense_block_3 output shape:\t (1, 6, 6, 240)\n",
      "transition_layer_3 output shape:\t (1, 3, 3, 120)\n",
      "dense_block_4 output shape:\t (1, 3, 3, 248)\n",
      "global_average_pooling2d output shape:\t (1, 248)\n",
      "dense output shape:\t (1, 10)\n"
     ]
    }
   ],
   "source": [
    "X = tf.random.uniform(shape=(1,  96, 96 , 1))\n",
    "for layer in mynet.layers:\n",
    "    X = layer(X)\n",
    "    print(layer.name, 'output shape:\\t', X.shape)"
   ]
  },
  {
   "cell_type": "markdown",
   "id": "e0ce6545",
   "metadata": {
    "papermill": {
     "duration": 0.005433,
     "end_time": "2024-10-22T10:53:32.041086",
     "exception": false,
     "start_time": "2024-10-22T10:53:32.035653",
     "status": "completed"
    },
    "tags": []
   },
   "source": [
    "## 5.12.3 获取数据并训练模型\n",
    "\n",
    "由于这里使用了比较深的网络，本节里我们将输入高和宽从224降到96来简化计算。"
   ]
  },
  {
   "cell_type": "code",
   "execution_count": 9,
   "id": "bd8eb5f5",
   "metadata": {
    "execution": {
     "iopub.execute_input": "2024-10-22T10:53:32.053637Z",
     "iopub.status.busy": "2024-10-22T10:53:32.053060Z",
     "iopub.status.idle": "2024-10-22T10:55:02.426673Z",
     "shell.execute_reply": "2024-10-22T10:55:02.425522Z"
    },
    "papermill": {
     "duration": 90.382378,
     "end_time": "2024-10-22T10:55:02.428934",
     "exception": false,
     "start_time": "2024-10-22T10:53:32.046556",
     "status": "completed"
    },
    "tags": []
   },
   "outputs": [
    {
     "name": "stdout",
     "output_type": "stream",
     "text": [
      "Downloading data from https://storage.googleapis.com/tensorflow/tf-keras-datasets/train-labels-idx1-ubyte.gz\n",
      "\u001b[1m29515/29515\u001b[0m \u001b[32m━━━━━━━━━━━━━━━━━━━━\u001b[0m\u001b[37m\u001b[0m \u001b[1m0s\u001b[0m 0us/step\n",
      "Downloading data from https://storage.googleapis.com/tensorflow/tf-keras-datasets/train-images-idx3-ubyte.gz\n",
      "\u001b[1m26421880/26421880\u001b[0m \u001b[32m━━━━━━━━━━━━━━━━━━━━\u001b[0m\u001b[37m\u001b[0m \u001b[1m2s\u001b[0m 0us/step\n",
      "Downloading data from https://storage.googleapis.com/tensorflow/tf-keras-datasets/t10k-labels-idx1-ubyte.gz\n",
      "\u001b[1m5148/5148\u001b[0m \u001b[32m━━━━━━━━━━━━━━━━━━━━\u001b[0m\u001b[37m\u001b[0m \u001b[1m0s\u001b[0m 0us/step\n",
      "Downloading data from https://storage.googleapis.com/tensorflow/tf-keras-datasets/t10k-images-idx3-ubyte.gz\n",
      "\u001b[1m4422102/4422102\u001b[0m \u001b[32m━━━━━━━━━━━━━━━━━━━━\u001b[0m\u001b[37m\u001b[0m \u001b[1m1s\u001b[0m 0us/step\n",
      "Epoch 1/5\n"
     ]
    },
    {
     "name": "stderr",
     "output_type": "stream",
     "text": [
      "WARNING: All log messages before absl::InitializeLog() is called are written to STDERR\n",
      "I0000 00:00:1729594436.515690      65 service.cc:145] XLA service 0x7af8200031a0 initialized for platform CUDA (this does not guarantee that XLA will be used). Devices:\n",
      "I0000 00:00:1729594436.515748      65 service.cc:153]   StreamExecutor device (0): Tesla P100-PCIE-16GB, Compute Capability 6.0\n"
     ]
    },
    {
     "name": "stdout",
     "output_type": "stream",
     "text": [
      "\u001b[1m 10/750\u001b[0m \u001b[37m━━━━━━━━━━━━━━━━━━━━\u001b[0m \u001b[1m9s\u001b[0m 13ms/step - accuracy: 0.1257 - loss: 2.2709 "
     ]
    },
    {
     "name": "stderr",
     "output_type": "stream",
     "text": [
      "I0000 00:00:1729594448.005265      65 device_compiler.h:188] Compiled cluster using XLA!  This line is logged at most once for the lifetime of the process.\n"
     ]
    },
    {
     "name": "stdout",
     "output_type": "stream",
     "text": [
      "\u001b[1m750/750\u001b[0m \u001b[32m━━━━━━━━━━━━━━━━━━━━\u001b[0m\u001b[37m\u001b[0m \u001b[1m42s\u001b[0m 18ms/step - accuracy: 0.6990 - loss: 0.8022 - val_accuracy: 0.8472 - val_loss: 0.4186\n",
      "Epoch 2/5\n",
      "\u001b[1m750/750\u001b[0m \u001b[32m━━━━━━━━━━━━━━━━━━━━\u001b[0m\u001b[37m\u001b[0m \u001b[1m9s\u001b[0m 13ms/step - accuracy: 0.8694 - loss: 0.3524 - val_accuracy: 0.8888 - val_loss: 0.3046\n",
      "Epoch 3/5\n",
      "\u001b[1m750/750\u001b[0m \u001b[32m━━━━━━━━━━━━━━━━━━━━\u001b[0m\u001b[37m\u001b[0m \u001b[1m9s\u001b[0m 12ms/step - accuracy: 0.8856 - loss: 0.3054 - val_accuracy: 0.8831 - val_loss: 0.3157\n",
      "Epoch 4/5\n",
      "\u001b[1m750/750\u001b[0m \u001b[32m━━━━━━━━━━━━━━━━━━━━\u001b[0m\u001b[37m\u001b[0m \u001b[1m9s\u001b[0m 12ms/step - accuracy: 0.9000 - loss: 0.2683 - val_accuracy: 0.8986 - val_loss: 0.2798\n",
      "Epoch 5/5\n",
      "\u001b[1m750/750\u001b[0m \u001b[32m━━━━━━━━━━━━━━━━━━━━\u001b[0m\u001b[37m\u001b[0m \u001b[1m9s\u001b[0m 13ms/step - accuracy: 0.9092 - loss: 0.2493 - val_accuracy: 0.8862 - val_loss: 0.2948\n",
      "313/313 - 3s - 10ms/step - accuracy: 0.8802 - loss: 0.3131\n",
      "model weights saved to 'densenet.weights.h5'\n"
     ]
    }
   ],
   "source": [
    "(x_train, y_train), (x_test, y_test) = tf.keras.datasets.fashion_mnist.load_data()\n",
    "x_train = x_train.reshape((60000, 28, 28, 1)).astype('float32') / 255\n",
    "x_test = x_test.reshape((10000, 28, 28, 1)).astype('float32') / 255\n",
    "\n",
    "mynet.compile(loss='sparse_categorical_crossentropy',\n",
    "              optimizer=tf.keras.optimizers.Adam(),\n",
    "              metrics=['accuracy'])\n",
    "\n",
    "history = mynet.fit(x_train, y_train,\n",
    "                    batch_size=64,\n",
    "                    epochs=5,\n",
    "                    validation_split=0.2)\n",
    "test_scores = mynet.evaluate(x_test, y_test, verbose=2)\n",
    "\n",
    "# 保存模型权重\n",
    "mynet.save_weights('densenet.weights.h5')\n",
    "print(\"model weights saved to 'densenet.weights.h5'\")\n"
   ]
  }
 ],
 "metadata": {
  "hide_input": false,
  "kaggle": {
   "accelerator": "gpu",
   "dataSources": [],
   "isGpuEnabled": true,
   "isInternetEnabled": true,
   "language": "python",
   "sourceType": "notebook"
  },
  "kernelspec": {
   "display_name": "Python 3",
   "language": "python",
   "name": "python3"
  },
  "language_info": {
   "codemirror_mode": {
    "name": "ipython",
    "version": 3
   },
   "file_extension": ".py",
   "mimetype": "text/x-python",
   "name": "python",
   "nbconvert_exporter": "python",
   "pygments_lexer": "ipython3",
   "version": "3.10.14"
  },
  "latex_envs": {
   "LaTeX_envs_menu_present": true,
   "autoclose": true,
   "autocomplete": true,
   "bibliofile": "biblio.bib",
   "cite_by": "apalike",
   "current_citInitial": 1,
   "eqLabelWithNumbers": true,
   "eqNumInitial": 1,
   "hotkeys": {
    "equation": "Ctrl-E",
    "itemize": "Ctrl-I"
   },
   "labels_anchors": false,
   "latex_user_defs": false,
   "report_style_numbering": false,
   "user_envs_cfg": false
  },
  "papermill": {
   "default_parameters": {},
   "duration": 113.720981,
   "end_time": "2024-10-22T10:55:06.017116",
   "environment_variables": {},
   "exception": null,
   "input_path": "__notebook__.ipynb",
   "output_path": "__notebook__.ipynb",
   "parameters": {},
   "start_time": "2024-10-22T10:53:12.296135",
   "version": "2.6.0"
  },
  "toc": {
   "base_numbering": 1,
   "nav_menu": {},
   "number_sections": true,
   "sideBar": true,
   "skip_h1_title": false,
   "title_cell": "Table of Contents",
   "title_sidebar": "Contents",
   "toc_cell": false,
   "toc_position": {},
   "toc_section_display": true,
   "toc_window_display": false
  },
  "varInspector": {
   "cols": {
    "lenName": 16,
    "lenType": 16,
    "lenVar": 40
   },
   "kernels_config": {
    "python": {
     "delete_cmd_postfix": "",
     "delete_cmd_prefix": "del ",
     "library": "var_list.py",
     "varRefreshCmd": "print(var_dic_list())"
    },
    "r": {
     "delete_cmd_postfix": ") ",
     "delete_cmd_prefix": "rm(",
     "library": "var_list.r",
     "varRefreshCmd": "cat(var_dic_list()) "
    }
   },
   "position": {
    "height": "525px",
    "left": "923px",
    "right": "20px",
    "top": "127px",
    "width": "353px"
   },
   "types_to_exclude": [
    "module",
    "function",
    "builtin_function_or_method",
    "instance",
    "_Feature"
   ],
   "window_display": false
  }
 },
 "nbformat": 4,
 "nbformat_minor": 5
}
